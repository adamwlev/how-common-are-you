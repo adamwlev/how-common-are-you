{
 "cells": [
  {
   "cell_type": "code",
   "execution_count": 6,
   "metadata": {},
   "outputs": [],
   "source": [
    "import pandas as pd\n",
    "from scipy.stats import gaussian_kde\n",
    "from sklearn.neighbors import KernelDensity\n",
    "import numpy as np\n",
    "pd.options.display.max_columns = 999\n",
    "pd.options.display.max_rows = 8000\n",
    "import itertools\n",
    "import matplotlib.pyplot as plt\n",
    "%matplotlib inline"
   ]
  },
  {
   "cell_type": "code",
   "execution_count": 2,
   "metadata": {},
   "outputs": [],
   "source": [
    "du = pd.read_csv('~/Downloads/csv_pus/psam_pusa.csv',nrows=10)"
   ]
  },
  {
   "cell_type": "code",
   "execution_count": 3,
   "metadata": {},
   "outputs": [
    {
     "data": {
      "text/html": [
       "<div>\n",
       "<style scoped>\n",
       "    .dataframe tbody tr th:only-of-type {\n",
       "        vertical-align: middle;\n",
       "    }\n",
       "\n",
       "    .dataframe tbody tr th {\n",
       "        vertical-align: top;\n",
       "    }\n",
       "\n",
       "    .dataframe thead th {\n",
       "        text-align: right;\n",
       "    }\n",
       "</style>\n",
       "<table border=\"1\" class=\"dataframe\">\n",
       "  <thead>\n",
       "    <tr style=\"text-align: right;\">\n",
       "      <th></th>\n",
       "      <th>RT</th>\n",
       "      <th>SERIALNO</th>\n",
       "      <th>DIVISION</th>\n",
       "      <th>SPORDER</th>\n",
       "      <th>PUMA</th>\n",
       "      <th>REGION</th>\n",
       "      <th>ST</th>\n",
       "      <th>ADJINC</th>\n",
       "      <th>PWGTP</th>\n",
       "      <th>AGEP</th>\n",
       "      <th>CIT</th>\n",
       "      <th>CITWP</th>\n",
       "      <th>COW</th>\n",
       "      <th>DDRS</th>\n",
       "      <th>DEAR</th>\n",
       "      <th>DEYE</th>\n",
       "      <th>DOUT</th>\n",
       "      <th>DPHY</th>\n",
       "      <th>DRAT</th>\n",
       "      <th>DRATX</th>\n",
       "      <th>DREM</th>\n",
       "      <th>ENG</th>\n",
       "      <th>FER</th>\n",
       "      <th>GCL</th>\n",
       "      <th>GCM</th>\n",
       "      <th>GCR</th>\n",
       "      <th>HINS1</th>\n",
       "      <th>HINS2</th>\n",
       "      <th>HINS3</th>\n",
       "      <th>HINS4</th>\n",
       "      <th>HINS5</th>\n",
       "      <th>HINS6</th>\n",
       "      <th>HINS7</th>\n",
       "      <th>INTP</th>\n",
       "      <th>JWMNP</th>\n",
       "      <th>JWRIP</th>\n",
       "      <th>JWTR</th>\n",
       "      <th>LANX</th>\n",
       "      <th>MAR</th>\n",
       "      <th>MARHD</th>\n",
       "      <th>MARHM</th>\n",
       "      <th>MARHT</th>\n",
       "      <th>MARHW</th>\n",
       "      <th>MARHYP</th>\n",
       "      <th>MIG</th>\n",
       "      <th>MIL</th>\n",
       "      <th>MLPA</th>\n",
       "      <th>MLPB</th>\n",
       "      <th>MLPCD</th>\n",
       "      <th>MLPE</th>\n",
       "      <th>MLPFG</th>\n",
       "      <th>MLPH</th>\n",
       "      <th>MLPI</th>\n",
       "      <th>MLPJ</th>\n",
       "      <th>MLPK</th>\n",
       "      <th>NWAB</th>\n",
       "      <th>NWAV</th>\n",
       "      <th>NWLA</th>\n",
       "      <th>NWLK</th>\n",
       "      <th>NWRE</th>\n",
       "      <th>OIP</th>\n",
       "      <th>PAP</th>\n",
       "      <th>RELP</th>\n",
       "      <th>RETP</th>\n",
       "      <th>SCH</th>\n",
       "      <th>SCHG</th>\n",
       "      <th>SCHL</th>\n",
       "      <th>SEMP</th>\n",
       "      <th>SEX</th>\n",
       "      <th>SSIP</th>\n",
       "      <th>SSP</th>\n",
       "      <th>WAGP</th>\n",
       "      <th>WKHP</th>\n",
       "      <th>WKL</th>\n",
       "      <th>WKW</th>\n",
       "      <th>WRK</th>\n",
       "      <th>YOEP</th>\n",
       "      <th>ANC</th>\n",
       "      <th>ANC1P</th>\n",
       "      <th>ANC2P</th>\n",
       "      <th>DECADE</th>\n",
       "      <th>DIS</th>\n",
       "      <th>DRIVESP</th>\n",
       "      <th>ESP</th>\n",
       "      <th>ESR</th>\n",
       "      <th>FOD1P</th>\n",
       "      <th>FOD2P</th>\n",
       "      <th>HICOV</th>\n",
       "      <th>HISP</th>\n",
       "      <th>INDP</th>\n",
       "      <th>JWAP</th>\n",
       "      <th>JWDP</th>\n",
       "      <th>LANP</th>\n",
       "      <th>MIGPUMA</th>\n",
       "      <th>MIGSP</th>\n",
       "      <th>MSP</th>\n",
       "      <th>NAICSP</th>\n",
       "      <th>NATIVITY</th>\n",
       "      <th>NOP</th>\n",
       "      <th>OC</th>\n",
       "      <th>OCCP</th>\n",
       "      <th>PAOC</th>\n",
       "      <th>PERNP</th>\n",
       "      <th>PINCP</th>\n",
       "      <th>POBP</th>\n",
       "      <th>POVPIP</th>\n",
       "      <th>POWPUMA</th>\n",
       "      <th>POWSP</th>\n",
       "      <th>PRIVCOV</th>\n",
       "      <th>PUBCOV</th>\n",
       "      <th>QTRBIR</th>\n",
       "      <th>RAC1P</th>\n",
       "      <th>RAC2P</th>\n",
       "      <th>RAC3P</th>\n",
       "      <th>RACAIAN</th>\n",
       "      <th>RACASN</th>\n",
       "      <th>RACBLK</th>\n",
       "      <th>RACNH</th>\n",
       "      <th>RACNUM</th>\n",
       "      <th>RACPI</th>\n",
       "      <th>RACSOR</th>\n",
       "      <th>RACWHT</th>\n",
       "      <th>RC</th>\n",
       "      <th>SCIENGP</th>\n",
       "      <th>SCIENGRLP</th>\n",
       "      <th>SFN</th>\n",
       "      <th>SFR</th>\n",
       "      <th>SOCP</th>\n",
       "      <th>VPS</th>\n",
       "      <th>WAOB</th>\n",
       "      <th>FAGEP</th>\n",
       "      <th>FANCP</th>\n",
       "      <th>FCITP</th>\n",
       "      <th>FCITWP</th>\n",
       "      <th>FCOWP</th>\n",
       "      <th>FDDRSP</th>\n",
       "      <th>FDEARP</th>\n",
       "      <th>FDEYEP</th>\n",
       "      <th>FDISP</th>\n",
       "      <th>FDOUTP</th>\n",
       "      <th>FDPHYP</th>\n",
       "      <th>FDRATP</th>\n",
       "      <th>FDRATXP</th>\n",
       "      <th>FDREMP</th>\n",
       "      <th>FENGP</th>\n",
       "      <th>FESRP</th>\n",
       "      <th>FFERP</th>\n",
       "      <th>FFODP</th>\n",
       "      <th>FGCLP</th>\n",
       "      <th>FGCMP</th>\n",
       "      <th>FGCRP</th>\n",
       "      <th>FHICOVP</th>\n",
       "      <th>FHINS1P</th>\n",
       "      <th>FHINS2P</th>\n",
       "      <th>FHINS3C</th>\n",
       "      <th>FHINS3P</th>\n",
       "      <th>FHINS4C</th>\n",
       "      <th>FHINS4P</th>\n",
       "      <th>FHINS5C</th>\n",
       "      <th>FHINS5P</th>\n",
       "      <th>FHINS6P</th>\n",
       "      <th>FHINS7P</th>\n",
       "      <th>FHISP</th>\n",
       "      <th>FINDP</th>\n",
       "      <th>FINTP</th>\n",
       "      <th>FJWDP</th>\n",
       "      <th>FJWMNP</th>\n",
       "      <th>FJWRIP</th>\n",
       "      <th>FJWTRP</th>\n",
       "      <th>FLANP</th>\n",
       "      <th>FLANXP</th>\n",
       "      <th>FMARP</th>\n",
       "      <th>FMARHDP</th>\n",
       "      <th>FMARHMP</th>\n",
       "      <th>FMARHTP</th>\n",
       "      <th>FMARHWP</th>\n",
       "      <th>FMARHYP</th>\n",
       "      <th>FMIGP</th>\n",
       "      <th>FMIGSP</th>\n",
       "      <th>FMILPP</th>\n",
       "      <th>FMILSP</th>\n",
       "      <th>FOCCP</th>\n",
       "      <th>FOIP</th>\n",
       "      <th>FPAP</th>\n",
       "      <th>FPERNP</th>\n",
       "      <th>FPINCP</th>\n",
       "      <th>FPOBP</th>\n",
       "      <th>FPOWSP</th>\n",
       "      <th>FPRIVCOVP</th>\n",
       "      <th>FPUBCOVP</th>\n",
       "      <th>FRACP</th>\n",
       "      <th>FRELP</th>\n",
       "      <th>FRETP</th>\n",
       "      <th>FSCHGP</th>\n",
       "      <th>FSCHLP</th>\n",
       "      <th>FSCHP</th>\n",
       "      <th>FSEMP</th>\n",
       "      <th>FSEXP</th>\n",
       "      <th>FSSIP</th>\n",
       "      <th>FSSP</th>\n",
       "      <th>FWAGP</th>\n",
       "      <th>FWKHP</th>\n",
       "      <th>FWKLP</th>\n",
       "      <th>FWKWP</th>\n",
       "      <th>FWRKP</th>\n",
       "      <th>FYOEP</th>\n",
       "      <th>PWGTP1</th>\n",
       "      <th>PWGTP2</th>\n",
       "      <th>PWGTP3</th>\n",
       "      <th>PWGTP4</th>\n",
       "      <th>PWGTP5</th>\n",
       "      <th>PWGTP6</th>\n",
       "      <th>PWGTP7</th>\n",
       "      <th>PWGTP8</th>\n",
       "      <th>PWGTP9</th>\n",
       "      <th>PWGTP10</th>\n",
       "      <th>PWGTP11</th>\n",
       "      <th>PWGTP12</th>\n",
       "      <th>PWGTP13</th>\n",
       "      <th>PWGTP14</th>\n",
       "      <th>PWGTP15</th>\n",
       "      <th>PWGTP16</th>\n",
       "      <th>PWGTP17</th>\n",
       "      <th>PWGTP18</th>\n",
       "      <th>PWGTP19</th>\n",
       "      <th>PWGTP20</th>\n",
       "      <th>PWGTP21</th>\n",
       "      <th>PWGTP22</th>\n",
       "      <th>PWGTP23</th>\n",
       "      <th>PWGTP24</th>\n",
       "      <th>PWGTP25</th>\n",
       "      <th>PWGTP26</th>\n",
       "      <th>PWGTP27</th>\n",
       "      <th>PWGTP28</th>\n",
       "      <th>PWGTP29</th>\n",
       "      <th>PWGTP30</th>\n",
       "      <th>PWGTP31</th>\n",
       "      <th>PWGTP32</th>\n",
       "      <th>PWGTP33</th>\n",
       "      <th>PWGTP34</th>\n",
       "      <th>PWGTP35</th>\n",
       "      <th>PWGTP36</th>\n",
       "      <th>PWGTP37</th>\n",
       "      <th>PWGTP38</th>\n",
       "      <th>PWGTP39</th>\n",
       "      <th>PWGTP40</th>\n",
       "      <th>PWGTP41</th>\n",
       "      <th>PWGTP42</th>\n",
       "      <th>PWGTP43</th>\n",
       "      <th>PWGTP44</th>\n",
       "      <th>PWGTP45</th>\n",
       "      <th>PWGTP46</th>\n",
       "      <th>PWGTP47</th>\n",
       "      <th>PWGTP48</th>\n",
       "      <th>PWGTP49</th>\n",
       "      <th>PWGTP50</th>\n",
       "      <th>PWGTP51</th>\n",
       "      <th>PWGTP52</th>\n",
       "      <th>PWGTP53</th>\n",
       "      <th>PWGTP54</th>\n",
       "      <th>PWGTP55</th>\n",
       "      <th>PWGTP56</th>\n",
       "      <th>PWGTP57</th>\n",
       "      <th>PWGTP58</th>\n",
       "      <th>PWGTP59</th>\n",
       "      <th>PWGTP60</th>\n",
       "      <th>PWGTP61</th>\n",
       "      <th>PWGTP62</th>\n",
       "      <th>PWGTP63</th>\n",
       "      <th>PWGTP64</th>\n",
       "      <th>PWGTP65</th>\n",
       "      <th>PWGTP66</th>\n",
       "      <th>PWGTP67</th>\n",
       "      <th>PWGTP68</th>\n",
       "      <th>PWGTP69</th>\n",
       "      <th>PWGTP70</th>\n",
       "      <th>PWGTP71</th>\n",
       "      <th>PWGTP72</th>\n",
       "      <th>PWGTP73</th>\n",
       "      <th>PWGTP74</th>\n",
       "      <th>PWGTP75</th>\n",
       "      <th>PWGTP76</th>\n",
       "      <th>PWGTP77</th>\n",
       "      <th>PWGTP78</th>\n",
       "      <th>PWGTP79</th>\n",
       "      <th>PWGTP80</th>\n",
       "    </tr>\n",
       "  </thead>\n",
       "  <tbody>\n",
       "    <tr>\n",
       "      <th>0</th>\n",
       "      <td>P</td>\n",
       "      <td>2017000000016</td>\n",
       "      <td>6</td>\n",
       "      <td>1</td>\n",
       "      <td>2500</td>\n",
       "      <td>3</td>\n",
       "      <td>1</td>\n",
       "      <td>1011189</td>\n",
       "      <td>206</td>\n",
       "      <td>73</td>\n",
       "      <td>1</td>\n",
       "      <td>NaN</td>\n",
       "      <td>NaN</td>\n",
       "      <td>2.0</td>\n",
       "      <td>2</td>\n",
       "      <td>2</td>\n",
       "      <td>2.0</td>\n",
       "      <td>1.0</td>\n",
       "      <td>NaN</td>\n",
       "      <td>NaN</td>\n",
       "      <td>1.0</td>\n",
       "      <td>NaN</td>\n",
       "      <td>NaN</td>\n",
       "      <td>2.0</td>\n",
       "      <td>NaN</td>\n",
       "      <td>NaN</td>\n",
       "      <td>2</td>\n",
       "      <td>2</td>\n",
       "      <td>1</td>\n",
       "      <td>2</td>\n",
       "      <td>2</td>\n",
       "      <td>2</td>\n",
       "      <td>2</td>\n",
       "      <td>0.0</td>\n",
       "      <td>NaN</td>\n",
       "      <td>NaN</td>\n",
       "      <td>NaN</td>\n",
       "      <td>2.0</td>\n",
       "      <td>4</td>\n",
       "      <td>2.0</td>\n",
       "      <td>2.0</td>\n",
       "      <td>1.0</td>\n",
       "      <td>2.0</td>\n",
       "      <td>1979.0</td>\n",
       "      <td>1</td>\n",
       "      <td>4.0</td>\n",
       "      <td>NaN</td>\n",
       "      <td>NaN</td>\n",
       "      <td>NaN</td>\n",
       "      <td>NaN</td>\n",
       "      <td>NaN</td>\n",
       "      <td>NaN</td>\n",
       "      <td>NaN</td>\n",
       "      <td>NaN</td>\n",
       "      <td>NaN</td>\n",
       "      <td>2.0</td>\n",
       "      <td>5.0</td>\n",
       "      <td>2.0</td>\n",
       "      <td>2.0</td>\n",
       "      <td>3.0</td>\n",
       "      <td>0.0</td>\n",
       "      <td>0.0</td>\n",
       "      <td>0</td>\n",
       "      <td>0.0</td>\n",
       "      <td>1</td>\n",
       "      <td>NaN</td>\n",
       "      <td>10</td>\n",
       "      <td>0.0</td>\n",
       "      <td>1</td>\n",
       "      <td>0.0</td>\n",
       "      <td>10000.0</td>\n",
       "      <td>0.0</td>\n",
       "      <td>NaN</td>\n",
       "      <td>3.0</td>\n",
       "      <td>NaN</td>\n",
       "      <td>2.0</td>\n",
       "      <td>NaN</td>\n",
       "      <td>1</td>\n",
       "      <td>902</td>\n",
       "      <td>999</td>\n",
       "      <td>NaN</td>\n",
       "      <td>1</td>\n",
       "      <td>NaN</td>\n",
       "      <td>NaN</td>\n",
       "      <td>6.0</td>\n",
       "      <td>NaN</td>\n",
       "      <td>NaN</td>\n",
       "      <td>1</td>\n",
       "      <td>1</td>\n",
       "      <td>NaN</td>\n",
       "      <td>NaN</td>\n",
       "      <td>NaN</td>\n",
       "      <td>NaN</td>\n",
       "      <td>NaN</td>\n",
       "      <td>NaN</td>\n",
       "      <td>5.0</td>\n",
       "      <td>NaN</td>\n",
       "      <td>1</td>\n",
       "      <td>NaN</td>\n",
       "      <td>0</td>\n",
       "      <td>NaN</td>\n",
       "      <td>NaN</td>\n",
       "      <td>0.0</td>\n",
       "      <td>10000.0</td>\n",
       "      <td>1</td>\n",
       "      <td>85</td>\n",
       "      <td>NaN</td>\n",
       "      <td>NaN</td>\n",
       "      <td>2</td>\n",
       "      <td>1</td>\n",
       "      <td>4</td>\n",
       "      <td>2</td>\n",
       "      <td>2</td>\n",
       "      <td>2</td>\n",
       "      <td>0</td>\n",
       "      <td>0</td>\n",
       "      <td>1</td>\n",
       "      <td>0</td>\n",
       "      <td>1</td>\n",
       "      <td>0</td>\n",
       "      <td>0</td>\n",
       "      <td>0</td>\n",
       "      <td>0</td>\n",
       "      <td>NaN</td>\n",
       "      <td>NaN</td>\n",
       "      <td>NaN</td>\n",
       "      <td>NaN</td>\n",
       "      <td>NaN</td>\n",
       "      <td>NaN</td>\n",
       "      <td>1</td>\n",
       "      <td>0</td>\n",
       "      <td>0</td>\n",
       "      <td>0</td>\n",
       "      <td>0</td>\n",
       "      <td>0</td>\n",
       "      <td>0</td>\n",
       "      <td>0</td>\n",
       "      <td>0</td>\n",
       "      <td>0</td>\n",
       "      <td>0</td>\n",
       "      <td>0</td>\n",
       "      <td>0</td>\n",
       "      <td>0</td>\n",
       "      <td>0</td>\n",
       "      <td>0</td>\n",
       "      <td>0</td>\n",
       "      <td>0</td>\n",
       "      <td>0</td>\n",
       "      <td>0</td>\n",
       "      <td>0</td>\n",
       "      <td>0</td>\n",
       "      <td>0</td>\n",
       "      <td>0</td>\n",
       "      <td>0</td>\n",
       "      <td>0.0</td>\n",
       "      <td>0</td>\n",
       "      <td>NaN</td>\n",
       "      <td>0</td>\n",
       "      <td>NaN</td>\n",
       "      <td>0</td>\n",
       "      <td>0</td>\n",
       "      <td>0</td>\n",
       "      <td>0</td>\n",
       "      <td>0</td>\n",
       "      <td>0</td>\n",
       "      <td>0</td>\n",
       "      <td>0</td>\n",
       "      <td>0</td>\n",
       "      <td>0</td>\n",
       "      <td>0</td>\n",
       "      <td>0</td>\n",
       "      <td>0</td>\n",
       "      <td>0</td>\n",
       "      <td>0</td>\n",
       "      <td>0</td>\n",
       "      <td>0</td>\n",
       "      <td>1</td>\n",
       "      <td>0</td>\n",
       "      <td>0</td>\n",
       "      <td>0</td>\n",
       "      <td>0</td>\n",
       "      <td>0</td>\n",
       "      <td>0</td>\n",
       "      <td>0</td>\n",
       "      <td>0</td>\n",
       "      <td>0</td>\n",
       "      <td>0</td>\n",
       "      <td>0</td>\n",
       "      <td>0</td>\n",
       "      <td>0</td>\n",
       "      <td>0</td>\n",
       "      <td>0</td>\n",
       "      <td>0</td>\n",
       "      <td>0</td>\n",
       "      <td>0</td>\n",
       "      <td>0</td>\n",
       "      <td>0</td>\n",
       "      <td>0</td>\n",
       "      <td>0</td>\n",
       "      <td>0</td>\n",
       "      <td>0</td>\n",
       "      <td>0</td>\n",
       "      <td>0</td>\n",
       "      <td>0</td>\n",
       "      <td>0</td>\n",
       "      <td>0</td>\n",
       "      <td>240</td>\n",
       "      <td>225</td>\n",
       "      <td>300</td>\n",
       "      <td>297</td>\n",
       "      <td>326</td>\n",
       "      <td>327</td>\n",
       "      <td>164</td>\n",
       "      <td>234</td>\n",
       "      <td>235</td>\n",
       "      <td>62</td>\n",
       "      <td>268</td>\n",
       "      <td>419</td>\n",
       "      <td>90</td>\n",
       "      <td>241</td>\n",
       "      <td>193</td>\n",
       "      <td>72</td>\n",
       "      <td>142</td>\n",
       "      <td>77</td>\n",
       "      <td>246</td>\n",
       "      <td>78</td>\n",
       "      <td>276</td>\n",
       "      <td>184</td>\n",
       "      <td>276</td>\n",
       "      <td>196</td>\n",
       "      <td>272</td>\n",
       "      <td>244</td>\n",
       "      <td>188</td>\n",
       "      <td>269</td>\n",
       "      <td>201</td>\n",
       "      <td>68</td>\n",
       "      <td>304</td>\n",
       "      <td>360</td>\n",
       "      <td>65</td>\n",
       "      <td>145</td>\n",
       "      <td>185</td>\n",
       "      <td>78</td>\n",
       "      <td>239</td>\n",
       "      <td>93</td>\n",
       "      <td>251</td>\n",
       "      <td>283</td>\n",
       "      <td>199</td>\n",
       "      <td>211</td>\n",
       "      <td>63</td>\n",
       "      <td>230</td>\n",
       "      <td>84</td>\n",
       "      <td>186</td>\n",
       "      <td>280</td>\n",
       "      <td>83</td>\n",
       "      <td>225</td>\n",
       "      <td>242</td>\n",
       "      <td>76</td>\n",
       "      <td>57</td>\n",
       "      <td>356</td>\n",
       "      <td>283</td>\n",
       "      <td>206</td>\n",
       "      <td>320</td>\n",
       "      <td>157</td>\n",
       "      <td>280</td>\n",
       "      <td>224</td>\n",
       "      <td>285</td>\n",
       "      <td>200</td>\n",
       "      <td>168</td>\n",
       "      <td>70</td>\n",
       "      <td>179</td>\n",
       "      <td>72</td>\n",
       "      <td>140</td>\n",
       "      <td>306</td>\n",
       "      <td>120</td>\n",
       "      <td>193</td>\n",
       "      <td>261</td>\n",
       "      <td>60</td>\n",
       "      <td>46</td>\n",
       "      <td>260</td>\n",
       "      <td>300</td>\n",
       "      <td>256</td>\n",
       "      <td>370</td>\n",
       "      <td>366</td>\n",
       "      <td>293</td>\n",
       "      <td>250</td>\n",
       "      <td>62</td>\n",
       "    </tr>\n",
       "    <tr>\n",
       "      <th>1</th>\n",
       "      <td>P</td>\n",
       "      <td>2017000000031</td>\n",
       "      <td>6</td>\n",
       "      <td>1</td>\n",
       "      <td>1800</td>\n",
       "      <td>3</td>\n",
       "      <td>1</td>\n",
       "      <td>1011189</td>\n",
       "      <td>45</td>\n",
       "      <td>31</td>\n",
       "      <td>1</td>\n",
       "      <td>NaN</td>\n",
       "      <td>1.0</td>\n",
       "      <td>2.0</td>\n",
       "      <td>2</td>\n",
       "      <td>2</td>\n",
       "      <td>2.0</td>\n",
       "      <td>2.0</td>\n",
       "      <td>NaN</td>\n",
       "      <td>NaN</td>\n",
       "      <td>2.0</td>\n",
       "      <td>NaN</td>\n",
       "      <td>2.0</td>\n",
       "      <td>2.0</td>\n",
       "      <td>NaN</td>\n",
       "      <td>NaN</td>\n",
       "      <td>1</td>\n",
       "      <td>2</td>\n",
       "      <td>2</td>\n",
       "      <td>2</td>\n",
       "      <td>2</td>\n",
       "      <td>2</td>\n",
       "      <td>2</td>\n",
       "      <td>0.0</td>\n",
       "      <td>50.0</td>\n",
       "      <td>1.0</td>\n",
       "      <td>1.0</td>\n",
       "      <td>2.0</td>\n",
       "      <td>5</td>\n",
       "      <td>NaN</td>\n",
       "      <td>NaN</td>\n",
       "      <td>NaN</td>\n",
       "      <td>NaN</td>\n",
       "      <td>NaN</td>\n",
       "      <td>1</td>\n",
       "      <td>4.0</td>\n",
       "      <td>NaN</td>\n",
       "      <td>NaN</td>\n",
       "      <td>NaN</td>\n",
       "      <td>NaN</td>\n",
       "      <td>NaN</td>\n",
       "      <td>NaN</td>\n",
       "      <td>NaN</td>\n",
       "      <td>NaN</td>\n",
       "      <td>NaN</td>\n",
       "      <td>3.0</td>\n",
       "      <td>5.0</td>\n",
       "      <td>3.0</td>\n",
       "      <td>3.0</td>\n",
       "      <td>3.0</td>\n",
       "      <td>0.0</td>\n",
       "      <td>0.0</td>\n",
       "      <td>0</td>\n",
       "      <td>0.0</td>\n",
       "      <td>1</td>\n",
       "      <td>NaN</td>\n",
       "      <td>21</td>\n",
       "      <td>0.0</td>\n",
       "      <td>2</td>\n",
       "      <td>0.0</td>\n",
       "      <td>0.0</td>\n",
       "      <td>38500.0</td>\n",
       "      <td>42.0</td>\n",
       "      <td>1.0</td>\n",
       "      <td>1.0</td>\n",
       "      <td>1.0</td>\n",
       "      <td>NaN</td>\n",
       "      <td>2</td>\n",
       "      <td>917</td>\n",
       "      <td>50</td>\n",
       "      <td>NaN</td>\n",
       "      <td>2</td>\n",
       "      <td>1.0</td>\n",
       "      <td>NaN</td>\n",
       "      <td>1.0</td>\n",
       "      <td>6100.0</td>\n",
       "      <td>NaN</td>\n",
       "      <td>1</td>\n",
       "      <td>1</td>\n",
       "      <td>8090.0</td>\n",
       "      <td>88.0</td>\n",
       "      <td>39.0</td>\n",
       "      <td>NaN</td>\n",
       "      <td>NaN</td>\n",
       "      <td>NaN</td>\n",
       "      <td>6.0</td>\n",
       "      <td>6214.0</td>\n",
       "      <td>1</td>\n",
       "      <td>NaN</td>\n",
       "      <td>0</td>\n",
       "      <td>350.0</td>\n",
       "      <td>4.0</td>\n",
       "      <td>38500.0</td>\n",
       "      <td>38500.0</td>\n",
       "      <td>13</td>\n",
       "      <td>302</td>\n",
       "      <td>1200.0</td>\n",
       "      <td>1.0</td>\n",
       "      <td>1</td>\n",
       "      <td>2</td>\n",
       "      <td>1</td>\n",
       "      <td>1</td>\n",
       "      <td>1</td>\n",
       "      <td>1</td>\n",
       "      <td>0</td>\n",
       "      <td>0</td>\n",
       "      <td>0</td>\n",
       "      <td>0</td>\n",
       "      <td>1</td>\n",
       "      <td>0</td>\n",
       "      <td>0</td>\n",
       "      <td>1</td>\n",
       "      <td>0</td>\n",
       "      <td>2.0</td>\n",
       "      <td>1.0</td>\n",
       "      <td>NaN</td>\n",
       "      <td>NaN</td>\n",
       "      <td>119111.0</td>\n",
       "      <td>NaN</td>\n",
       "      <td>1</td>\n",
       "      <td>0</td>\n",
       "      <td>0</td>\n",
       "      <td>0</td>\n",
       "      <td>0</td>\n",
       "      <td>0</td>\n",
       "      <td>0</td>\n",
       "      <td>0</td>\n",
       "      <td>0</td>\n",
       "      <td>0</td>\n",
       "      <td>0</td>\n",
       "      <td>0</td>\n",
       "      <td>0</td>\n",
       "      <td>0</td>\n",
       "      <td>0</td>\n",
       "      <td>0</td>\n",
       "      <td>0</td>\n",
       "      <td>0</td>\n",
       "      <td>0</td>\n",
       "      <td>0</td>\n",
       "      <td>0</td>\n",
       "      <td>0</td>\n",
       "      <td>0</td>\n",
       "      <td>0</td>\n",
       "      <td>0</td>\n",
       "      <td>NaN</td>\n",
       "      <td>0</td>\n",
       "      <td>NaN</td>\n",
       "      <td>0</td>\n",
       "      <td>NaN</td>\n",
       "      <td>0</td>\n",
       "      <td>0</td>\n",
       "      <td>0</td>\n",
       "      <td>0</td>\n",
       "      <td>0</td>\n",
       "      <td>0</td>\n",
       "      <td>0</td>\n",
       "      <td>0</td>\n",
       "      <td>0</td>\n",
       "      <td>0</td>\n",
       "      <td>0</td>\n",
       "      <td>0</td>\n",
       "      <td>0</td>\n",
       "      <td>0</td>\n",
       "      <td>0</td>\n",
       "      <td>0</td>\n",
       "      <td>0</td>\n",
       "      <td>0</td>\n",
       "      <td>0</td>\n",
       "      <td>0</td>\n",
       "      <td>0</td>\n",
       "      <td>0</td>\n",
       "      <td>0</td>\n",
       "      <td>0</td>\n",
       "      <td>0</td>\n",
       "      <td>0</td>\n",
       "      <td>0</td>\n",
       "      <td>0</td>\n",
       "      <td>0</td>\n",
       "      <td>0</td>\n",
       "      <td>0</td>\n",
       "      <td>0</td>\n",
       "      <td>0</td>\n",
       "      <td>0</td>\n",
       "      <td>0</td>\n",
       "      <td>0</td>\n",
       "      <td>0</td>\n",
       "      <td>0</td>\n",
       "      <td>0</td>\n",
       "      <td>0</td>\n",
       "      <td>0</td>\n",
       "      <td>0</td>\n",
       "      <td>0</td>\n",
       "      <td>0</td>\n",
       "      <td>0</td>\n",
       "      <td>0</td>\n",
       "      <td>0</td>\n",
       "      <td>27</td>\n",
       "      <td>48</td>\n",
       "      <td>41</td>\n",
       "      <td>55</td>\n",
       "      <td>23</td>\n",
       "      <td>30</td>\n",
       "      <td>14</td>\n",
       "      <td>55</td>\n",
       "      <td>14</td>\n",
       "      <td>16</td>\n",
       "      <td>11</td>\n",
       "      <td>11</td>\n",
       "      <td>38</td>\n",
       "      <td>68</td>\n",
       "      <td>15</td>\n",
       "      <td>12</td>\n",
       "      <td>49</td>\n",
       "      <td>13</td>\n",
       "      <td>19</td>\n",
       "      <td>67</td>\n",
       "      <td>116</td>\n",
       "      <td>74</td>\n",
       "      <td>72</td>\n",
       "      <td>95</td>\n",
       "      <td>40</td>\n",
       "      <td>79</td>\n",
       "      <td>39</td>\n",
       "      <td>61</td>\n",
       "      <td>34</td>\n",
       "      <td>48</td>\n",
       "      <td>60</td>\n",
       "      <td>49</td>\n",
       "      <td>76</td>\n",
       "      <td>51</td>\n",
       "      <td>41</td>\n",
       "      <td>47</td>\n",
       "      <td>106</td>\n",
       "      <td>49</td>\n",
       "      <td>26</td>\n",
       "      <td>56</td>\n",
       "      <td>36</td>\n",
       "      <td>31</td>\n",
       "      <td>34</td>\n",
       "      <td>48</td>\n",
       "      <td>47</td>\n",
       "      <td>39</td>\n",
       "      <td>68</td>\n",
       "      <td>48</td>\n",
       "      <td>80</td>\n",
       "      <td>62</td>\n",
       "      <td>49</td>\n",
       "      <td>141</td>\n",
       "      <td>77</td>\n",
       "      <td>71</td>\n",
       "      <td>57</td>\n",
       "      <td>63</td>\n",
       "      <td>45</td>\n",
       "      <td>63</td>\n",
       "      <td>108</td>\n",
       "      <td>13</td>\n",
       "      <td>11</td>\n",
       "      <td>16</td>\n",
       "      <td>20</td>\n",
       "      <td>19</td>\n",
       "      <td>55</td>\n",
       "      <td>19</td>\n",
       "      <td>34</td>\n",
       "      <td>17</td>\n",
       "      <td>58</td>\n",
       "      <td>36</td>\n",
       "      <td>55</td>\n",
       "      <td>31</td>\n",
       "      <td>11</td>\n",
       "      <td>19</td>\n",
       "      <td>43</td>\n",
       "      <td>103</td>\n",
       "      <td>14</td>\n",
       "      <td>49</td>\n",
       "      <td>49</td>\n",
       "      <td>98</td>\n",
       "    </tr>\n",
       "    <tr>\n",
       "      <th>2</th>\n",
       "      <td>P</td>\n",
       "      <td>2017000000061</td>\n",
       "      <td>6</td>\n",
       "      <td>1</td>\n",
       "      <td>2400</td>\n",
       "      <td>3</td>\n",
       "      <td>1</td>\n",
       "      <td>1011189</td>\n",
       "      <td>136</td>\n",
       "      <td>41</td>\n",
       "      <td>1</td>\n",
       "      <td>NaN</td>\n",
       "      <td>1.0</td>\n",
       "      <td>2.0</td>\n",
       "      <td>2</td>\n",
       "      <td>2</td>\n",
       "      <td>2.0</td>\n",
       "      <td>2.0</td>\n",
       "      <td>NaN</td>\n",
       "      <td>NaN</td>\n",
       "      <td>2.0</td>\n",
       "      <td>NaN</td>\n",
       "      <td>NaN</td>\n",
       "      <td>2.0</td>\n",
       "      <td>NaN</td>\n",
       "      <td>NaN</td>\n",
       "      <td>1</td>\n",
       "      <td>1</td>\n",
       "      <td>2</td>\n",
       "      <td>1</td>\n",
       "      <td>2</td>\n",
       "      <td>2</td>\n",
       "      <td>2</td>\n",
       "      <td>10000.0</td>\n",
       "      <td>45.0</td>\n",
       "      <td>1.0</td>\n",
       "      <td>1.0</td>\n",
       "      <td>2.0</td>\n",
       "      <td>1</td>\n",
       "      <td>2.0</td>\n",
       "      <td>2.0</td>\n",
       "      <td>2.0</td>\n",
       "      <td>2.0</td>\n",
       "      <td>2000.0</td>\n",
       "      <td>1</td>\n",
       "      <td>4.0</td>\n",
       "      <td>NaN</td>\n",
       "      <td>NaN</td>\n",
       "      <td>NaN</td>\n",
       "      <td>NaN</td>\n",
       "      <td>NaN</td>\n",
       "      <td>NaN</td>\n",
       "      <td>NaN</td>\n",
       "      <td>NaN</td>\n",
       "      <td>NaN</td>\n",
       "      <td>3.0</td>\n",
       "      <td>5.0</td>\n",
       "      <td>3.0</td>\n",
       "      <td>3.0</td>\n",
       "      <td>3.0</td>\n",
       "      <td>0.0</td>\n",
       "      <td>0.0</td>\n",
       "      <td>0</td>\n",
       "      <td>0.0</td>\n",
       "      <td>1</td>\n",
       "      <td>NaN</td>\n",
       "      <td>17</td>\n",
       "      <td>0.0</td>\n",
       "      <td>1</td>\n",
       "      <td>0.0</td>\n",
       "      <td>0.0</td>\n",
       "      <td>72000.0</td>\n",
       "      <td>42.0</td>\n",
       "      <td>1.0</td>\n",
       "      <td>1.0</td>\n",
       "      <td>1.0</td>\n",
       "      <td>NaN</td>\n",
       "      <td>1</td>\n",
       "      <td>210</td>\n",
       "      <td>999</td>\n",
       "      <td>NaN</td>\n",
       "      <td>2</td>\n",
       "      <td>1.0</td>\n",
       "      <td>NaN</td>\n",
       "      <td>1.0</td>\n",
       "      <td>NaN</td>\n",
       "      <td>NaN</td>\n",
       "      <td>1</td>\n",
       "      <td>2</td>\n",
       "      <td>770.0</td>\n",
       "      <td>223.0</td>\n",
       "      <td>127.0</td>\n",
       "      <td>NaN</td>\n",
       "      <td>NaN</td>\n",
       "      <td>NaN</td>\n",
       "      <td>1.0</td>\n",
       "      <td>23.0</td>\n",
       "      <td>1</td>\n",
       "      <td>NaN</td>\n",
       "      <td>0</td>\n",
       "      <td>6260.0</td>\n",
       "      <td>NaN</td>\n",
       "      <td>72000.0</td>\n",
       "      <td>82000.0</td>\n",
       "      <td>13</td>\n",
       "      <td>467</td>\n",
       "      <td>1700.0</td>\n",
       "      <td>13.0</td>\n",
       "      <td>1</td>\n",
       "      <td>1</td>\n",
       "      <td>1</td>\n",
       "      <td>1</td>\n",
       "      <td>1</td>\n",
       "      <td>1</td>\n",
       "      <td>0</td>\n",
       "      <td>0</td>\n",
       "      <td>0</td>\n",
       "      <td>0</td>\n",
       "      <td>1</td>\n",
       "      <td>0</td>\n",
       "      <td>0</td>\n",
       "      <td>1</td>\n",
       "      <td>0</td>\n",
       "      <td>NaN</td>\n",
       "      <td>NaN</td>\n",
       "      <td>NaN</td>\n",
       "      <td>NaN</td>\n",
       "      <td>472061.0</td>\n",
       "      <td>NaN</td>\n",
       "      <td>1</td>\n",
       "      <td>0</td>\n",
       "      <td>0</td>\n",
       "      <td>0</td>\n",
       "      <td>0</td>\n",
       "      <td>0</td>\n",
       "      <td>0</td>\n",
       "      <td>0</td>\n",
       "      <td>0</td>\n",
       "      <td>0</td>\n",
       "      <td>0</td>\n",
       "      <td>0</td>\n",
       "      <td>0</td>\n",
       "      <td>0</td>\n",
       "      <td>0</td>\n",
       "      <td>0</td>\n",
       "      <td>0</td>\n",
       "      <td>0</td>\n",
       "      <td>0</td>\n",
       "      <td>0</td>\n",
       "      <td>0</td>\n",
       "      <td>0</td>\n",
       "      <td>0</td>\n",
       "      <td>0</td>\n",
       "      <td>0</td>\n",
       "      <td>NaN</td>\n",
       "      <td>0</td>\n",
       "      <td>1.0</td>\n",
       "      <td>0</td>\n",
       "      <td>NaN</td>\n",
       "      <td>0</td>\n",
       "      <td>0</td>\n",
       "      <td>0</td>\n",
       "      <td>0</td>\n",
       "      <td>0</td>\n",
       "      <td>0</td>\n",
       "      <td>1</td>\n",
       "      <td>0</td>\n",
       "      <td>0</td>\n",
       "      <td>0</td>\n",
       "      <td>0</td>\n",
       "      <td>0</td>\n",
       "      <td>0</td>\n",
       "      <td>0</td>\n",
       "      <td>0</td>\n",
       "      <td>0</td>\n",
       "      <td>0</td>\n",
       "      <td>0</td>\n",
       "      <td>0</td>\n",
       "      <td>0</td>\n",
       "      <td>0</td>\n",
       "      <td>0</td>\n",
       "      <td>0</td>\n",
       "      <td>0</td>\n",
       "      <td>0</td>\n",
       "      <td>0</td>\n",
       "      <td>0</td>\n",
       "      <td>0</td>\n",
       "      <td>0</td>\n",
       "      <td>0</td>\n",
       "      <td>0</td>\n",
       "      <td>0</td>\n",
       "      <td>0</td>\n",
       "      <td>0</td>\n",
       "      <td>0</td>\n",
       "      <td>0</td>\n",
       "      <td>0</td>\n",
       "      <td>0</td>\n",
       "      <td>0</td>\n",
       "      <td>0</td>\n",
       "      <td>0</td>\n",
       "      <td>0</td>\n",
       "      <td>0</td>\n",
       "      <td>0</td>\n",
       "      <td>0</td>\n",
       "      <td>0</td>\n",
       "      <td>0</td>\n",
       "      <td>100</td>\n",
       "      <td>147</td>\n",
       "      <td>332</td>\n",
       "      <td>254</td>\n",
       "      <td>56</td>\n",
       "      <td>337</td>\n",
       "      <td>197</td>\n",
       "      <td>108</td>\n",
       "      <td>80</td>\n",
       "      <td>24</td>\n",
       "      <td>43</td>\n",
       "      <td>150</td>\n",
       "      <td>143</td>\n",
       "      <td>199</td>\n",
       "      <td>47</td>\n",
       "      <td>77</td>\n",
       "      <td>130</td>\n",
       "      <td>304</td>\n",
       "      <td>125</td>\n",
       "      <td>41</td>\n",
       "      <td>46</td>\n",
       "      <td>40</td>\n",
       "      <td>111</td>\n",
       "      <td>91</td>\n",
       "      <td>115</td>\n",
       "      <td>297</td>\n",
       "      <td>310</td>\n",
       "      <td>74</td>\n",
       "      <td>149</td>\n",
       "      <td>139</td>\n",
       "      <td>236</td>\n",
       "      <td>238</td>\n",
       "      <td>83</td>\n",
       "      <td>134</td>\n",
       "      <td>74</td>\n",
       "      <td>312</td>\n",
       "      <td>101</td>\n",
       "      <td>139</td>\n",
       "      <td>722</td>\n",
       "      <td>82</td>\n",
       "      <td>372</td>\n",
       "      <td>156</td>\n",
       "      <td>28</td>\n",
       "      <td>58</td>\n",
       "      <td>215</td>\n",
       "      <td>34</td>\n",
       "      <td>141</td>\n",
       "      <td>168</td>\n",
       "      <td>193</td>\n",
       "      <td>490</td>\n",
       "      <td>191</td>\n",
       "      <td>174</td>\n",
       "      <td>98</td>\n",
       "      <td>41</td>\n",
       "      <td>295</td>\n",
       "      <td>291</td>\n",
       "      <td>64</td>\n",
       "      <td>90</td>\n",
       "      <td>176</td>\n",
       "      <td>170</td>\n",
       "      <td>190</td>\n",
       "      <td>456</td>\n",
       "      <td>117</td>\n",
       "      <td>190</td>\n",
       "      <td>484</td>\n",
       "      <td>122</td>\n",
       "      <td>42</td>\n",
       "      <td>124</td>\n",
       "      <td>126</td>\n",
       "      <td>154</td>\n",
       "      <td>101</td>\n",
       "      <td>47</td>\n",
       "      <td>160</td>\n",
       "      <td>333</td>\n",
       "      <td>176</td>\n",
       "      <td>33</td>\n",
       "      <td>131</td>\n",
       "      <td>74</td>\n",
       "      <td>30</td>\n",
       "      <td>185</td>\n",
       "    </tr>\n",
       "    <tr>\n",
       "      <th>3</th>\n",
       "      <td>P</td>\n",
       "      <td>2017000000061</td>\n",
       "      <td>6</td>\n",
       "      <td>2</td>\n",
       "      <td>2400</td>\n",
       "      <td>3</td>\n",
       "      <td>1</td>\n",
       "      <td>1011189</td>\n",
       "      <td>121</td>\n",
       "      <td>48</td>\n",
       "      <td>1</td>\n",
       "      <td>NaN</td>\n",
       "      <td>NaN</td>\n",
       "      <td>2.0</td>\n",
       "      <td>2</td>\n",
       "      <td>2</td>\n",
       "      <td>2.0</td>\n",
       "      <td>2.0</td>\n",
       "      <td>NaN</td>\n",
       "      <td>NaN</td>\n",
       "      <td>2.0</td>\n",
       "      <td>NaN</td>\n",
       "      <td>2.0</td>\n",
       "      <td>2.0</td>\n",
       "      <td>NaN</td>\n",
       "      <td>NaN</td>\n",
       "      <td>1</td>\n",
       "      <td>1</td>\n",
       "      <td>2</td>\n",
       "      <td>1</td>\n",
       "      <td>2</td>\n",
       "      <td>2</td>\n",
       "      <td>2</td>\n",
       "      <td>0.0</td>\n",
       "      <td>NaN</td>\n",
       "      <td>NaN</td>\n",
       "      <td>NaN</td>\n",
       "      <td>2.0</td>\n",
       "      <td>1</td>\n",
       "      <td>2.0</td>\n",
       "      <td>2.0</td>\n",
       "      <td>2.0</td>\n",
       "      <td>2.0</td>\n",
       "      <td>2000.0</td>\n",
       "      <td>1</td>\n",
       "      <td>4.0</td>\n",
       "      <td>NaN</td>\n",
       "      <td>NaN</td>\n",
       "      <td>NaN</td>\n",
       "      <td>NaN</td>\n",
       "      <td>NaN</td>\n",
       "      <td>NaN</td>\n",
       "      <td>NaN</td>\n",
       "      <td>NaN</td>\n",
       "      <td>NaN</td>\n",
       "      <td>2.0</td>\n",
       "      <td>5.0</td>\n",
       "      <td>2.0</td>\n",
       "      <td>2.0</td>\n",
       "      <td>3.0</td>\n",
       "      <td>0.0</td>\n",
       "      <td>0.0</td>\n",
       "      <td>1</td>\n",
       "      <td>0.0</td>\n",
       "      <td>1</td>\n",
       "      <td>NaN</td>\n",
       "      <td>16</td>\n",
       "      <td>0.0</td>\n",
       "      <td>2</td>\n",
       "      <td>8700.0</td>\n",
       "      <td>0.0</td>\n",
       "      <td>0.0</td>\n",
       "      <td>NaN</td>\n",
       "      <td>3.0</td>\n",
       "      <td>NaN</td>\n",
       "      <td>2.0</td>\n",
       "      <td>NaN</td>\n",
       "      <td>1</td>\n",
       "      <td>939</td>\n",
       "      <td>999</td>\n",
       "      <td>NaN</td>\n",
       "      <td>2</td>\n",
       "      <td>NaN</td>\n",
       "      <td>NaN</td>\n",
       "      <td>6.0</td>\n",
       "      <td>NaN</td>\n",
       "      <td>NaN</td>\n",
       "      <td>1</td>\n",
       "      <td>1</td>\n",
       "      <td>NaN</td>\n",
       "      <td>NaN</td>\n",
       "      <td>NaN</td>\n",
       "      <td>NaN</td>\n",
       "      <td>NaN</td>\n",
       "      <td>NaN</td>\n",
       "      <td>1.0</td>\n",
       "      <td>NaN</td>\n",
       "      <td>1</td>\n",
       "      <td>NaN</td>\n",
       "      <td>0</td>\n",
       "      <td>NaN</td>\n",
       "      <td>2.0</td>\n",
       "      <td>0.0</td>\n",
       "      <td>8700.0</td>\n",
       "      <td>17</td>\n",
       "      <td>467</td>\n",
       "      <td>NaN</td>\n",
       "      <td>NaN</td>\n",
       "      <td>1</td>\n",
       "      <td>1</td>\n",
       "      <td>1</td>\n",
       "      <td>1</td>\n",
       "      <td>1</td>\n",
       "      <td>1</td>\n",
       "      <td>0</td>\n",
       "      <td>0</td>\n",
       "      <td>0</td>\n",
       "      <td>0</td>\n",
       "      <td>1</td>\n",
       "      <td>0</td>\n",
       "      <td>0</td>\n",
       "      <td>1</td>\n",
       "      <td>0</td>\n",
       "      <td>NaN</td>\n",
       "      <td>NaN</td>\n",
       "      <td>NaN</td>\n",
       "      <td>NaN</td>\n",
       "      <td>NaN</td>\n",
       "      <td>NaN</td>\n",
       "      <td>1</td>\n",
       "      <td>0</td>\n",
       "      <td>0</td>\n",
       "      <td>0</td>\n",
       "      <td>0</td>\n",
       "      <td>0</td>\n",
       "      <td>0</td>\n",
       "      <td>0</td>\n",
       "      <td>0</td>\n",
       "      <td>0</td>\n",
       "      <td>0</td>\n",
       "      <td>0</td>\n",
       "      <td>0</td>\n",
       "      <td>0</td>\n",
       "      <td>0</td>\n",
       "      <td>0</td>\n",
       "      <td>0</td>\n",
       "      <td>0</td>\n",
       "      <td>0</td>\n",
       "      <td>0</td>\n",
       "      <td>0</td>\n",
       "      <td>0</td>\n",
       "      <td>0</td>\n",
       "      <td>0</td>\n",
       "      <td>0</td>\n",
       "      <td>NaN</td>\n",
       "      <td>0</td>\n",
       "      <td>1.0</td>\n",
       "      <td>0</td>\n",
       "      <td>NaN</td>\n",
       "      <td>0</td>\n",
       "      <td>0</td>\n",
       "      <td>0</td>\n",
       "      <td>0</td>\n",
       "      <td>0</td>\n",
       "      <td>0</td>\n",
       "      <td>0</td>\n",
       "      <td>0</td>\n",
       "      <td>0</td>\n",
       "      <td>0</td>\n",
       "      <td>0</td>\n",
       "      <td>0</td>\n",
       "      <td>0</td>\n",
       "      <td>0</td>\n",
       "      <td>0</td>\n",
       "      <td>0</td>\n",
       "      <td>0</td>\n",
       "      <td>0</td>\n",
       "      <td>0</td>\n",
       "      <td>0</td>\n",
       "      <td>0</td>\n",
       "      <td>0</td>\n",
       "      <td>0</td>\n",
       "      <td>0</td>\n",
       "      <td>0</td>\n",
       "      <td>0</td>\n",
       "      <td>0</td>\n",
       "      <td>0</td>\n",
       "      <td>0</td>\n",
       "      <td>0</td>\n",
       "      <td>0</td>\n",
       "      <td>0</td>\n",
       "      <td>0</td>\n",
       "      <td>0</td>\n",
       "      <td>0</td>\n",
       "      <td>0</td>\n",
       "      <td>0</td>\n",
       "      <td>0</td>\n",
       "      <td>0</td>\n",
       "      <td>0</td>\n",
       "      <td>0</td>\n",
       "      <td>0</td>\n",
       "      <td>0</td>\n",
       "      <td>0</td>\n",
       "      <td>0</td>\n",
       "      <td>0</td>\n",
       "      <td>0</td>\n",
       "      <td>125</td>\n",
       "      <td>102</td>\n",
       "      <td>193</td>\n",
       "      <td>212</td>\n",
       "      <td>58</td>\n",
       "      <td>254</td>\n",
       "      <td>94</td>\n",
       "      <td>106</td>\n",
       "      <td>40</td>\n",
       "      <td>41</td>\n",
       "      <td>39</td>\n",
       "      <td>133</td>\n",
       "      <td>97</td>\n",
       "      <td>181</td>\n",
       "      <td>49</td>\n",
       "      <td>104</td>\n",
       "      <td>201</td>\n",
       "      <td>131</td>\n",
       "      <td>118</td>\n",
       "      <td>41</td>\n",
       "      <td>37</td>\n",
       "      <td>35</td>\n",
       "      <td>89</td>\n",
       "      <td>139</td>\n",
       "      <td>109</td>\n",
       "      <td>82</td>\n",
       "      <td>330</td>\n",
       "      <td>43</td>\n",
       "      <td>113</td>\n",
       "      <td>156</td>\n",
       "      <td>113</td>\n",
       "      <td>199</td>\n",
       "      <td>26</td>\n",
       "      <td>94</td>\n",
       "      <td>149</td>\n",
       "      <td>300</td>\n",
       "      <td>92</td>\n",
       "      <td>126</td>\n",
       "      <td>330</td>\n",
       "      <td>89</td>\n",
       "      <td>160</td>\n",
       "      <td>165</td>\n",
       "      <td>48</td>\n",
       "      <td>57</td>\n",
       "      <td>133</td>\n",
       "      <td>31</td>\n",
       "      <td>118</td>\n",
       "      <td>127</td>\n",
       "      <td>207</td>\n",
       "      <td>219</td>\n",
       "      <td>196</td>\n",
       "      <td>115</td>\n",
       "      <td>136</td>\n",
       "      <td>49</td>\n",
       "      <td>169</td>\n",
       "      <td>129</td>\n",
       "      <td>35</td>\n",
       "      <td>102</td>\n",
       "      <td>101</td>\n",
       "      <td>164</td>\n",
       "      <td>130</td>\n",
       "      <td>223</td>\n",
       "      <td>106</td>\n",
       "      <td>95</td>\n",
       "      <td>167</td>\n",
       "      <td>107</td>\n",
       "      <td>40</td>\n",
       "      <td>166</td>\n",
       "      <td>80</td>\n",
       "      <td>92</td>\n",
       "      <td>147</td>\n",
       "      <td>49</td>\n",
       "      <td>213</td>\n",
       "      <td>197</td>\n",
       "      <td>108</td>\n",
       "      <td>38</td>\n",
       "      <td>150</td>\n",
       "      <td>53</td>\n",
       "      <td>43</td>\n",
       "      <td>114</td>\n",
       "    </tr>\n",
       "    <tr>\n",
       "      <th>4</th>\n",
       "      <td>P</td>\n",
       "      <td>2017000000061</td>\n",
       "      <td>6</td>\n",
       "      <td>3</td>\n",
       "      <td>2400</td>\n",
       "      <td>3</td>\n",
       "      <td>1</td>\n",
       "      <td>1011189</td>\n",
       "      <td>111</td>\n",
       "      <td>16</td>\n",
       "      <td>1</td>\n",
       "      <td>NaN</td>\n",
       "      <td>NaN</td>\n",
       "      <td>2.0</td>\n",
       "      <td>2</td>\n",
       "      <td>2</td>\n",
       "      <td>2.0</td>\n",
       "      <td>2.0</td>\n",
       "      <td>NaN</td>\n",
       "      <td>NaN</td>\n",
       "      <td>2.0</td>\n",
       "      <td>NaN</td>\n",
       "      <td>NaN</td>\n",
       "      <td>NaN</td>\n",
       "      <td>NaN</td>\n",
       "      <td>NaN</td>\n",
       "      <td>1</td>\n",
       "      <td>1</td>\n",
       "      <td>2</td>\n",
       "      <td>1</td>\n",
       "      <td>2</td>\n",
       "      <td>2</td>\n",
       "      <td>2</td>\n",
       "      <td>0.0</td>\n",
       "      <td>NaN</td>\n",
       "      <td>NaN</td>\n",
       "      <td>NaN</td>\n",
       "      <td>2.0</td>\n",
       "      <td>5</td>\n",
       "      <td>NaN</td>\n",
       "      <td>NaN</td>\n",
       "      <td>NaN</td>\n",
       "      <td>NaN</td>\n",
       "      <td>NaN</td>\n",
       "      <td>1</td>\n",
       "      <td>NaN</td>\n",
       "      <td>NaN</td>\n",
       "      <td>NaN</td>\n",
       "      <td>NaN</td>\n",
       "      <td>NaN</td>\n",
       "      <td>NaN</td>\n",
       "      <td>NaN</td>\n",
       "      <td>NaN</td>\n",
       "      <td>NaN</td>\n",
       "      <td>NaN</td>\n",
       "      <td>2.0</td>\n",
       "      <td>5.0</td>\n",
       "      <td>2.0</td>\n",
       "      <td>2.0</td>\n",
       "      <td>3.0</td>\n",
       "      <td>0.0</td>\n",
       "      <td>0.0</td>\n",
       "      <td>2</td>\n",
       "      <td>0.0</td>\n",
       "      <td>2</td>\n",
       "      <td>12.0</td>\n",
       "      <td>13</td>\n",
       "      <td>0.0</td>\n",
       "      <td>1</td>\n",
       "      <td>0.0</td>\n",
       "      <td>0.0</td>\n",
       "      <td>0.0</td>\n",
       "      <td>NaN</td>\n",
       "      <td>3.0</td>\n",
       "      <td>NaN</td>\n",
       "      <td>2.0</td>\n",
       "      <td>NaN</td>\n",
       "      <td>1</td>\n",
       "      <td>211</td>\n",
       "      <td>999</td>\n",
       "      <td>NaN</td>\n",
       "      <td>2</td>\n",
       "      <td>NaN</td>\n",
       "      <td>2.0</td>\n",
       "      <td>6.0</td>\n",
       "      <td>NaN</td>\n",
       "      <td>NaN</td>\n",
       "      <td>1</td>\n",
       "      <td>2</td>\n",
       "      <td>NaN</td>\n",
       "      <td>NaN</td>\n",
       "      <td>NaN</td>\n",
       "      <td>NaN</td>\n",
       "      <td>NaN</td>\n",
       "      <td>NaN</td>\n",
       "      <td>6.0</td>\n",
       "      <td>NaN</td>\n",
       "      <td>1</td>\n",
       "      <td>1.0</td>\n",
       "      <td>1</td>\n",
       "      <td>NaN</td>\n",
       "      <td>NaN</td>\n",
       "      <td>0.0</td>\n",
       "      <td>0.0</td>\n",
       "      <td>1</td>\n",
       "      <td>467</td>\n",
       "      <td>NaN</td>\n",
       "      <td>NaN</td>\n",
       "      <td>1</td>\n",
       "      <td>1</td>\n",
       "      <td>4</td>\n",
       "      <td>1</td>\n",
       "      <td>1</td>\n",
       "      <td>1</td>\n",
       "      <td>0</td>\n",
       "      <td>0</td>\n",
       "      <td>0</td>\n",
       "      <td>0</td>\n",
       "      <td>1</td>\n",
       "      <td>0</td>\n",
       "      <td>0</td>\n",
       "      <td>1</td>\n",
       "      <td>1</td>\n",
       "      <td>NaN</td>\n",
       "      <td>NaN</td>\n",
       "      <td>NaN</td>\n",
       "      <td>NaN</td>\n",
       "      <td>NaN</td>\n",
       "      <td>NaN</td>\n",
       "      <td>1</td>\n",
       "      <td>0</td>\n",
       "      <td>0</td>\n",
       "      <td>0</td>\n",
       "      <td>0</td>\n",
       "      <td>0</td>\n",
       "      <td>0</td>\n",
       "      <td>0</td>\n",
       "      <td>0</td>\n",
       "      <td>0</td>\n",
       "      <td>0</td>\n",
       "      <td>0</td>\n",
       "      <td>0</td>\n",
       "      <td>0</td>\n",
       "      <td>0</td>\n",
       "      <td>0</td>\n",
       "      <td>0</td>\n",
       "      <td>0</td>\n",
       "      <td>0</td>\n",
       "      <td>0</td>\n",
       "      <td>0</td>\n",
       "      <td>0</td>\n",
       "      <td>0</td>\n",
       "      <td>0</td>\n",
       "      <td>0</td>\n",
       "      <td>NaN</td>\n",
       "      <td>0</td>\n",
       "      <td>1.0</td>\n",
       "      <td>0</td>\n",
       "      <td>NaN</td>\n",
       "      <td>0</td>\n",
       "      <td>0</td>\n",
       "      <td>0</td>\n",
       "      <td>0</td>\n",
       "      <td>0</td>\n",
       "      <td>0</td>\n",
       "      <td>0</td>\n",
       "      <td>0</td>\n",
       "      <td>0</td>\n",
       "      <td>0</td>\n",
       "      <td>0</td>\n",
       "      <td>0</td>\n",
       "      <td>0</td>\n",
       "      <td>0</td>\n",
       "      <td>0</td>\n",
       "      <td>0</td>\n",
       "      <td>0</td>\n",
       "      <td>0</td>\n",
       "      <td>0</td>\n",
       "      <td>0</td>\n",
       "      <td>0</td>\n",
       "      <td>0</td>\n",
       "      <td>0</td>\n",
       "      <td>0</td>\n",
       "      <td>0</td>\n",
       "      <td>0</td>\n",
       "      <td>0</td>\n",
       "      <td>0</td>\n",
       "      <td>0</td>\n",
       "      <td>0</td>\n",
       "      <td>0</td>\n",
       "      <td>0</td>\n",
       "      <td>0</td>\n",
       "      <td>0</td>\n",
       "      <td>0</td>\n",
       "      <td>0</td>\n",
       "      <td>0</td>\n",
       "      <td>0</td>\n",
       "      <td>0</td>\n",
       "      <td>0</td>\n",
       "      <td>0</td>\n",
       "      <td>0</td>\n",
       "      <td>0</td>\n",
       "      <td>0</td>\n",
       "      <td>0</td>\n",
       "      <td>0</td>\n",
       "      <td>0</td>\n",
       "      <td>54</td>\n",
       "      <td>138</td>\n",
       "      <td>281</td>\n",
       "      <td>190</td>\n",
       "      <td>52</td>\n",
       "      <td>280</td>\n",
       "      <td>178</td>\n",
       "      <td>97</td>\n",
       "      <td>78</td>\n",
       "      <td>20</td>\n",
       "      <td>42</td>\n",
       "      <td>95</td>\n",
       "      <td>129</td>\n",
       "      <td>177</td>\n",
       "      <td>31</td>\n",
       "      <td>73</td>\n",
       "      <td>115</td>\n",
       "      <td>284</td>\n",
       "      <td>83</td>\n",
       "      <td>46</td>\n",
       "      <td>33</td>\n",
       "      <td>26</td>\n",
       "      <td>77</td>\n",
       "      <td>72</td>\n",
       "      <td>85</td>\n",
       "      <td>198</td>\n",
       "      <td>273</td>\n",
       "      <td>65</td>\n",
       "      <td>87</td>\n",
       "      <td>113</td>\n",
       "      <td>177</td>\n",
       "      <td>216</td>\n",
       "      <td>56</td>\n",
       "      <td>72</td>\n",
       "      <td>54</td>\n",
       "      <td>197</td>\n",
       "      <td>91</td>\n",
       "      <td>138</td>\n",
       "      <td>554</td>\n",
       "      <td>53</td>\n",
       "      <td>305</td>\n",
       "      <td>164</td>\n",
       "      <td>17</td>\n",
       "      <td>36</td>\n",
       "      <td>198</td>\n",
       "      <td>28</td>\n",
       "      <td>92</td>\n",
       "      <td>121</td>\n",
       "      <td>133</td>\n",
       "      <td>397</td>\n",
       "      <td>185</td>\n",
       "      <td>170</td>\n",
       "      <td>96</td>\n",
       "      <td>30</td>\n",
       "      <td>183</td>\n",
       "      <td>230</td>\n",
       "      <td>39</td>\n",
       "      <td>68</td>\n",
       "      <td>168</td>\n",
       "      <td>129</td>\n",
       "      <td>156</td>\n",
       "      <td>372</td>\n",
       "      <td>81</td>\n",
       "      <td>202</td>\n",
       "      <td>390</td>\n",
       "      <td>98</td>\n",
       "      <td>36</td>\n",
       "      <td>118</td>\n",
       "      <td>100</td>\n",
       "      <td>126</td>\n",
       "      <td>62</td>\n",
       "      <td>36</td>\n",
       "      <td>128</td>\n",
       "      <td>266</td>\n",
       "      <td>157</td>\n",
       "      <td>27</td>\n",
       "      <td>117</td>\n",
       "      <td>54</td>\n",
       "      <td>22</td>\n",
       "      <td>149</td>\n",
       "    </tr>\n",
       "  </tbody>\n",
       "</table>\n",
       "</div>"
      ],
      "text/plain": [
       "  RT       SERIALNO  DIVISION  SPORDER  PUMA  REGION  ST   ADJINC  PWGTP  \\\n",
       "0  P  2017000000016         6        1  2500       3   1  1011189    206   \n",
       "1  P  2017000000031         6        1  1800       3   1  1011189     45   \n",
       "2  P  2017000000061         6        1  2400       3   1  1011189    136   \n",
       "3  P  2017000000061         6        2  2400       3   1  1011189    121   \n",
       "4  P  2017000000061         6        3  2400       3   1  1011189    111   \n",
       "\n",
       "   AGEP  CIT  CITWP  COW  DDRS  DEAR  DEYE  DOUT  DPHY  DRAT  DRATX  DREM  \\\n",
       "0    73    1    NaN  NaN   2.0     2     2   2.0   1.0   NaN    NaN   1.0   \n",
       "1    31    1    NaN  1.0   2.0     2     2   2.0   2.0   NaN    NaN   2.0   \n",
       "2    41    1    NaN  1.0   2.0     2     2   2.0   2.0   NaN    NaN   2.0   \n",
       "3    48    1    NaN  NaN   2.0     2     2   2.0   2.0   NaN    NaN   2.0   \n",
       "4    16    1    NaN  NaN   2.0     2     2   2.0   2.0   NaN    NaN   2.0   \n",
       "\n",
       "   ENG  FER  GCL  GCM  GCR  HINS1  HINS2  HINS3  HINS4  HINS5  HINS6  HINS7  \\\n",
       "0  NaN  NaN  2.0  NaN  NaN      2      2      1      2      2      2      2   \n",
       "1  NaN  2.0  2.0  NaN  NaN      1      2      2      2      2      2      2   \n",
       "2  NaN  NaN  2.0  NaN  NaN      1      1      2      1      2      2      2   \n",
       "3  NaN  2.0  2.0  NaN  NaN      1      1      2      1      2      2      2   \n",
       "4  NaN  NaN  NaN  NaN  NaN      1      1      2      1      2      2      2   \n",
       "\n",
       "      INTP  JWMNP  JWRIP  JWTR  LANX  MAR  MARHD  MARHM  MARHT  MARHW  MARHYP  \\\n",
       "0      0.0    NaN    NaN   NaN   2.0    4    2.0    2.0    1.0    2.0  1979.0   \n",
       "1      0.0   50.0    1.0   1.0   2.0    5    NaN    NaN    NaN    NaN     NaN   \n",
       "2  10000.0   45.0    1.0   1.0   2.0    1    2.0    2.0    2.0    2.0  2000.0   \n",
       "3      0.0    NaN    NaN   NaN   2.0    1    2.0    2.0    2.0    2.0  2000.0   \n",
       "4      0.0    NaN    NaN   NaN   2.0    5    NaN    NaN    NaN    NaN     NaN   \n",
       "\n",
       "   MIG  MIL  MLPA  MLPB  MLPCD  MLPE  MLPFG  MLPH  MLPI  MLPJ  MLPK  NWAB  \\\n",
       "0    1  4.0   NaN   NaN    NaN   NaN    NaN   NaN   NaN   NaN   NaN   2.0   \n",
       "1    1  4.0   NaN   NaN    NaN   NaN    NaN   NaN   NaN   NaN   NaN   3.0   \n",
       "2    1  4.0   NaN   NaN    NaN   NaN    NaN   NaN   NaN   NaN   NaN   3.0   \n",
       "3    1  4.0   NaN   NaN    NaN   NaN    NaN   NaN   NaN   NaN   NaN   2.0   \n",
       "4    1  NaN   NaN   NaN    NaN   NaN    NaN   NaN   NaN   NaN   NaN   2.0   \n",
       "\n",
       "   NWAV  NWLA  NWLK  NWRE  OIP  PAP  RELP  RETP  SCH  SCHG  SCHL  SEMP  SEX  \\\n",
       "0   5.0   2.0   2.0   3.0  0.0  0.0     0   0.0    1   NaN    10   0.0    1   \n",
       "1   5.0   3.0   3.0   3.0  0.0  0.0     0   0.0    1   NaN    21   0.0    2   \n",
       "2   5.0   3.0   3.0   3.0  0.0  0.0     0   0.0    1   NaN    17   0.0    1   \n",
       "3   5.0   2.0   2.0   3.0  0.0  0.0     1   0.0    1   NaN    16   0.0    2   \n",
       "4   5.0   2.0   2.0   3.0  0.0  0.0     2   0.0    2  12.0    13   0.0    1   \n",
       "\n",
       "     SSIP      SSP     WAGP  WKHP  WKL  WKW  WRK  YOEP  ANC  ANC1P  ANC2P  \\\n",
       "0     0.0  10000.0      0.0   NaN  3.0  NaN  2.0   NaN    1    902    999   \n",
       "1     0.0      0.0  38500.0  42.0  1.0  1.0  1.0   NaN    2    917     50   \n",
       "2     0.0      0.0  72000.0  42.0  1.0  1.0  1.0   NaN    1    210    999   \n",
       "3  8700.0      0.0      0.0   NaN  3.0  NaN  2.0   NaN    1    939    999   \n",
       "4     0.0      0.0      0.0   NaN  3.0  NaN  2.0   NaN    1    211    999   \n",
       "\n",
       "   DECADE  DIS  DRIVESP  ESP  ESR   FOD1P  FOD2P  HICOV  HISP    INDP   JWAP  \\\n",
       "0     NaN    1      NaN  NaN  6.0     NaN    NaN      1     1     NaN    NaN   \n",
       "1     NaN    2      1.0  NaN  1.0  6100.0    NaN      1     1  8090.0   88.0   \n",
       "2     NaN    2      1.0  NaN  1.0     NaN    NaN      1     2   770.0  223.0   \n",
       "3     NaN    2      NaN  NaN  6.0     NaN    NaN      1     1     NaN    NaN   \n",
       "4     NaN    2      NaN  2.0  6.0     NaN    NaN      1     2     NaN    NaN   \n",
       "\n",
       "    JWDP  LANP  MIGPUMA  MIGSP  MSP  NAICSP  NATIVITY  NOP  OC    OCCP  PAOC  \\\n",
       "0    NaN   NaN      NaN    NaN  5.0     NaN         1  NaN   0     NaN   NaN   \n",
       "1   39.0   NaN      NaN    NaN  6.0  6214.0         1  NaN   0   350.0   4.0   \n",
       "2  127.0   NaN      NaN    NaN  1.0    23.0         1  NaN   0  6260.0   NaN   \n",
       "3    NaN   NaN      NaN    NaN  1.0     NaN         1  NaN   0     NaN   2.0   \n",
       "4    NaN   NaN      NaN    NaN  6.0     NaN         1  1.0   1     NaN   NaN   \n",
       "\n",
       "     PERNP    PINCP  POBP  POVPIP  POWPUMA  POWSP  PRIVCOV  PUBCOV  QTRBIR  \\\n",
       "0      0.0  10000.0     1      85      NaN    NaN        2       1       4   \n",
       "1  38500.0  38500.0    13     302   1200.0    1.0        1       2       1   \n",
       "2  72000.0  82000.0    13     467   1700.0   13.0        1       1       1   \n",
       "3      0.0   8700.0    17     467      NaN    NaN        1       1       1   \n",
       "4      0.0      0.0     1     467      NaN    NaN        1       1       4   \n",
       "\n",
       "   RAC1P  RAC2P  RAC3P  RACAIAN  RACASN  RACBLK  RACNH  RACNUM  RACPI  RACSOR  \\\n",
       "0      2      2      2        0       0       1      0       1      0       0   \n",
       "1      1      1      1        0       0       0      0       1      0       0   \n",
       "2      1      1      1        0       0       0      0       1      0       0   \n",
       "3      1      1      1        0       0       0      0       1      0       0   \n",
       "4      1      1      1        0       0       0      0       1      0       0   \n",
       "\n",
       "   RACWHT  RC  SCIENGP  SCIENGRLP  SFN  SFR      SOCP  VPS  WAOB  FAGEP  \\\n",
       "0       0   0      NaN        NaN  NaN  NaN       NaN  NaN     1      0   \n",
       "1       1   0      2.0        1.0  NaN  NaN  119111.0  NaN     1      0   \n",
       "2       1   0      NaN        NaN  NaN  NaN  472061.0  NaN     1      0   \n",
       "3       1   0      NaN        NaN  NaN  NaN       NaN  NaN     1      0   \n",
       "4       1   1      NaN        NaN  NaN  NaN       NaN  NaN     1      0   \n",
       "\n",
       "   FANCP  FCITP  FCITWP  FCOWP  FDDRSP  FDEARP  FDEYEP  FDISP  FDOUTP  FDPHYP  \\\n",
       "0      0      0       0      0       0       0       0      0       0       0   \n",
       "1      0      0       0      0       0       0       0      0       0       0   \n",
       "2      0      0       0      0       0       0       0      0       0       0   \n",
       "3      0      0       0      0       0       0       0      0       0       0   \n",
       "4      0      0       0      0       0       0       0      0       0       0   \n",
       "\n",
       "   FDRATP  FDRATXP  FDREMP  FENGP  FESRP  FFERP  FFODP  FGCLP  FGCMP  FGCRP  \\\n",
       "0       0        0       0      0      0      0      0      0      0      0   \n",
       "1       0        0       0      0      0      0      0      0      0      0   \n",
       "2       0        0       0      0      0      0      0      0      0      0   \n",
       "3       0        0       0      0      0      0      0      0      0      0   \n",
       "4       0        0       0      0      0      0      0      0      0      0   \n",
       "\n",
       "   FHICOVP  FHINS1P  FHINS2P  FHINS3C  FHINS3P  FHINS4C  FHINS4P  FHINS5C  \\\n",
       "0        0        0        0      0.0        0      NaN        0      NaN   \n",
       "1        0        0        0      NaN        0      NaN        0      NaN   \n",
       "2        0        0        0      NaN        0      1.0        0      NaN   \n",
       "3        0        0        0      NaN        0      1.0        0      NaN   \n",
       "4        0        0        0      NaN        0      1.0        0      NaN   \n",
       "\n",
       "   FHINS5P  FHINS6P  FHINS7P  FHISP  FINDP  FINTP  FJWDP  FJWMNP  FJWRIP  \\\n",
       "0        0        0        0      0      0      0      0       0       0   \n",
       "1        0        0        0      0      0      0      0       0       0   \n",
       "2        0        0        0      0      0      0      1       0       0   \n",
       "3        0        0        0      0      0      0      0       0       0   \n",
       "4        0        0        0      0      0      0      0       0       0   \n",
       "\n",
       "   FJWTRP  FLANP  FLANXP  FMARP  FMARHDP  FMARHMP  FMARHTP  FMARHWP  FMARHYP  \\\n",
       "0       0      0       0      0        0        0        0        0        1   \n",
       "1       0      0       0      0        0        0        0        0        0   \n",
       "2       0      0       0      0        0        0        0        0        0   \n",
       "3       0      0       0      0        0        0        0        0        0   \n",
       "4       0      0       0      0        0        0        0        0        0   \n",
       "\n",
       "   FMIGP  FMIGSP  FMILPP  FMILSP  FOCCP  FOIP  FPAP  FPERNP  FPINCP  FPOBP  \\\n",
       "0      0       0       0       0      0     0     0       0       0      0   \n",
       "1      0       0       0       0      0     0     0       0       0      0   \n",
       "2      0       0       0       0      0     0     0       0       0      0   \n",
       "3      0       0       0       0      0     0     0       0       0      0   \n",
       "4      0       0       0       0      0     0     0       0       0      0   \n",
       "\n",
       "   FPOWSP  FPRIVCOVP  FPUBCOVP  FRACP  FRELP  FRETP  FSCHGP  FSCHLP  FSCHP  \\\n",
       "0       0          0         0      0      0      0       0       0      0   \n",
       "1       0          0         0      0      0      0       0       0      0   \n",
       "2       0          0         0      0      0      0       0       0      0   \n",
       "3       0          0         0      0      0      0       0       0      0   \n",
       "4       0          0         0      0      0      0       0       0      0   \n",
       "\n",
       "   FSEMP  FSEXP  FSSIP  FSSP  FWAGP  FWKHP  FWKLP  FWKWP  FWRKP  FYOEP  \\\n",
       "0      0      0      0     0      0      0      0      0      0      0   \n",
       "1      0      0      0     0      0      0      0      0      0      0   \n",
       "2      0      0      0     0      0      0      0      0      0      0   \n",
       "3      0      0      0     0      0      0      0      0      0      0   \n",
       "4      0      0      0     0      0      0      0      0      0      0   \n",
       "\n",
       "   PWGTP1  PWGTP2  PWGTP3  PWGTP4  PWGTP5  PWGTP6  PWGTP7  PWGTP8  PWGTP9  \\\n",
       "0     240     225     300     297     326     327     164     234     235   \n",
       "1      27      48      41      55      23      30      14      55      14   \n",
       "2     100     147     332     254      56     337     197     108      80   \n",
       "3     125     102     193     212      58     254      94     106      40   \n",
       "4      54     138     281     190      52     280     178      97      78   \n",
       "\n",
       "   PWGTP10  PWGTP11  PWGTP12  PWGTP13  PWGTP14  PWGTP15  PWGTP16  PWGTP17  \\\n",
       "0       62      268      419       90      241      193       72      142   \n",
       "1       16       11       11       38       68       15       12       49   \n",
       "2       24       43      150      143      199       47       77      130   \n",
       "3       41       39      133       97      181       49      104      201   \n",
       "4       20       42       95      129      177       31       73      115   \n",
       "\n",
       "   PWGTP18  PWGTP19  PWGTP20  PWGTP21  PWGTP22  PWGTP23  PWGTP24  PWGTP25  \\\n",
       "0       77      246       78      276      184      276      196      272   \n",
       "1       13       19       67      116       74       72       95       40   \n",
       "2      304      125       41       46       40      111       91      115   \n",
       "3      131      118       41       37       35       89      139      109   \n",
       "4      284       83       46       33       26       77       72       85   \n",
       "\n",
       "   PWGTP26  PWGTP27  PWGTP28  PWGTP29  PWGTP30  PWGTP31  PWGTP32  PWGTP33  \\\n",
       "0      244      188      269      201       68      304      360       65   \n",
       "1       79       39       61       34       48       60       49       76   \n",
       "2      297      310       74      149      139      236      238       83   \n",
       "3       82      330       43      113      156      113      199       26   \n",
       "4      198      273       65       87      113      177      216       56   \n",
       "\n",
       "   PWGTP34  PWGTP35  PWGTP36  PWGTP37  PWGTP38  PWGTP39  PWGTP40  PWGTP41  \\\n",
       "0      145      185       78      239       93      251      283      199   \n",
       "1       51       41       47      106       49       26       56       36   \n",
       "2      134       74      312      101      139      722       82      372   \n",
       "3       94      149      300       92      126      330       89      160   \n",
       "4       72       54      197       91      138      554       53      305   \n",
       "\n",
       "   PWGTP42  PWGTP43  PWGTP44  PWGTP45  PWGTP46  PWGTP47  PWGTP48  PWGTP49  \\\n",
       "0      211       63      230       84      186      280       83      225   \n",
       "1       31       34       48       47       39       68       48       80   \n",
       "2      156       28       58      215       34      141      168      193   \n",
       "3      165       48       57      133       31      118      127      207   \n",
       "4      164       17       36      198       28       92      121      133   \n",
       "\n",
       "   PWGTP50  PWGTP51  PWGTP52  PWGTP53  PWGTP54  PWGTP55  PWGTP56  PWGTP57  \\\n",
       "0      242       76       57      356      283      206      320      157   \n",
       "1       62       49      141       77       71       57       63       45   \n",
       "2      490      191      174       98       41      295      291       64   \n",
       "3      219      196      115      136       49      169      129       35   \n",
       "4      397      185      170       96       30      183      230       39   \n",
       "\n",
       "   PWGTP58  PWGTP59  PWGTP60  PWGTP61  PWGTP62  PWGTP63  PWGTP64  PWGTP65  \\\n",
       "0      280      224      285      200      168       70      179       72   \n",
       "1       63      108       13       11       16       20       19       55   \n",
       "2       90      176      170      190      456      117      190      484   \n",
       "3      102      101      164      130      223      106       95      167   \n",
       "4       68      168      129      156      372       81      202      390   \n",
       "\n",
       "   PWGTP66  PWGTP67  PWGTP68  PWGTP69  PWGTP70  PWGTP71  PWGTP72  PWGTP73  \\\n",
       "0      140      306      120      193      261       60       46      260   \n",
       "1       19       34       17       58       36       55       31       11   \n",
       "2      122       42      124      126      154      101       47      160   \n",
       "3      107       40      166       80       92      147       49      213   \n",
       "4       98       36      118      100      126       62       36      128   \n",
       "\n",
       "   PWGTP74  PWGTP75  PWGTP76  PWGTP77  PWGTP78  PWGTP79  PWGTP80  \n",
       "0      300      256      370      366      293      250       62  \n",
       "1       19       43      103       14       49       49       98  \n",
       "2      333      176       33      131       74       30      185  \n",
       "3      197      108       38      150       53       43      114  \n",
       "4      266      157       27      117       54       22      149  "
      ]
     },
     "execution_count": 3,
     "metadata": {},
     "output_type": "execute_result"
    }
   ],
   "source": [
    "du.head()"
   ]
  },
  {
   "cell_type": "code",
   "execution_count": 7,
   "metadata": {},
   "outputs": [],
   "source": [
    "d = pd.concat([\n",
    "    pd.read_csv('~/Downloads/csv_pus/psam_pus%s.csv' % (v,),\n",
    "                usecols=['PWGTP','PUMA','ST','AGEP','RAC1P','SEX','MAR',\n",
    "                         'SCHL','PINCP','WKW','WKHP']) for v in ('a','b')])"
   ]
  },
  {
   "cell_type": "code",
   "execution_count": 3,
   "metadata": {},
   "outputs": [
    {
     "data": {
      "text/plain": [
       "(3190040, 11)"
      ]
     },
     "execution_count": 3,
     "metadata": {},
     "output_type": "execute_result"
    }
   ],
   "source": [
    "d.shape"
   ]
  },
  {
   "cell_type": "code",
   "execution_count": 4,
   "metadata": {},
   "outputs": [
    {
     "data": {
      "text/plain": [
       "325719178"
      ]
     },
     "execution_count": 4,
     "metadata": {},
     "output_type": "execute_result"
    }
   ],
   "source": [
    "d.PWGTP.sum()"
   ]
  },
  {
   "cell_type": "code",
   "execution_count": 5,
   "metadata": {},
   "outputs": [
    {
     "data": {
      "text/html": [
       "<div>\n",
       "<style scoped>\n",
       "    .dataframe tbody tr th:only-of-type {\n",
       "        vertical-align: middle;\n",
       "    }\n",
       "\n",
       "    .dataframe tbody tr th {\n",
       "        vertical-align: top;\n",
       "    }\n",
       "\n",
       "    .dataframe thead th {\n",
       "        text-align: right;\n",
       "    }\n",
       "</style>\n",
       "<table border=\"1\" class=\"dataframe\">\n",
       "  <thead>\n",
       "    <tr style=\"text-align: right;\">\n",
       "      <th></th>\n",
       "      <th>PUMA</th>\n",
       "      <th>ST</th>\n",
       "      <th>PWGTP</th>\n",
       "      <th>AGEP</th>\n",
       "      <th>MAR</th>\n",
       "      <th>SCHL</th>\n",
       "      <th>SEX</th>\n",
       "      <th>WKHP</th>\n",
       "      <th>WKW</th>\n",
       "      <th>PINCP</th>\n",
       "      <th>RAC1P</th>\n",
       "    </tr>\n",
       "  </thead>\n",
       "  <tbody>\n",
       "    <tr>\n",
       "      <th>0</th>\n",
       "      <td>2500</td>\n",
       "      <td>1</td>\n",
       "      <td>206</td>\n",
       "      <td>73</td>\n",
       "      <td>4</td>\n",
       "      <td>10.0</td>\n",
       "      <td>1</td>\n",
       "      <td>NaN</td>\n",
       "      <td>NaN</td>\n",
       "      <td>10000.0</td>\n",
       "      <td>2</td>\n",
       "    </tr>\n",
       "    <tr>\n",
       "      <th>1</th>\n",
       "      <td>1800</td>\n",
       "      <td>1</td>\n",
       "      <td>45</td>\n",
       "      <td>31</td>\n",
       "      <td>5</td>\n",
       "      <td>21.0</td>\n",
       "      <td>2</td>\n",
       "      <td>42.0</td>\n",
       "      <td>1.0</td>\n",
       "      <td>38500.0</td>\n",
       "      <td>1</td>\n",
       "    </tr>\n",
       "    <tr>\n",
       "      <th>2</th>\n",
       "      <td>2400</td>\n",
       "      <td>1</td>\n",
       "      <td>136</td>\n",
       "      <td>41</td>\n",
       "      <td>1</td>\n",
       "      <td>17.0</td>\n",
       "      <td>1</td>\n",
       "      <td>42.0</td>\n",
       "      <td>1.0</td>\n",
       "      <td>82000.0</td>\n",
       "      <td>1</td>\n",
       "    </tr>\n",
       "    <tr>\n",
       "      <th>3</th>\n",
       "      <td>2400</td>\n",
       "      <td>1</td>\n",
       "      <td>121</td>\n",
       "      <td>48</td>\n",
       "      <td>1</td>\n",
       "      <td>16.0</td>\n",
       "      <td>2</td>\n",
       "      <td>NaN</td>\n",
       "      <td>NaN</td>\n",
       "      <td>8700.0</td>\n",
       "      <td>1</td>\n",
       "    </tr>\n",
       "    <tr>\n",
       "      <th>4</th>\n",
       "      <td>2400</td>\n",
       "      <td>1</td>\n",
       "      <td>111</td>\n",
       "      <td>16</td>\n",
       "      <td>5</td>\n",
       "      <td>13.0</td>\n",
       "      <td>1</td>\n",
       "      <td>NaN</td>\n",
       "      <td>NaN</td>\n",
       "      <td>0.0</td>\n",
       "      <td>1</td>\n",
       "    </tr>\n",
       "  </tbody>\n",
       "</table>\n",
       "</div>"
      ],
      "text/plain": [
       "   PUMA  ST  PWGTP  AGEP  MAR  SCHL  SEX  WKHP  WKW    PINCP  RAC1P\n",
       "0  2500   1    206    73    4  10.0    1   NaN  NaN  10000.0      2\n",
       "1  1800   1     45    31    5  21.0    2  42.0  1.0  38500.0      1\n",
       "2  2400   1    136    41    1  17.0    1  42.0  1.0  82000.0      1\n",
       "3  2400   1    121    48    1  16.0    2   NaN  NaN   8700.0      1\n",
       "4  2400   1    111    16    5  13.0    1   NaN  NaN      0.0      1"
      ]
     },
     "execution_count": 5,
     "metadata": {},
     "output_type": "execute_result"
    }
   ],
   "source": [
    "d.head()"
   ]
  },
  {
   "cell_type": "code",
   "execution_count": 19,
   "metadata": {},
   "outputs": [
    {
     "data": {
      "text/plain": [
       "0"
      ]
     },
     "execution_count": 19,
     "metadata": {},
     "output_type": "execute_result"
    }
   ],
   "source": [
    "d.PWGTP.isnull().sum()"
   ]
  },
  {
   "cell_type": "code",
   "execution_count": 20,
   "metadata": {},
   "outputs": [
    {
     "data": {
      "text/plain": [
       "0"
      ]
     },
     "execution_count": 20,
     "metadata": {},
     "output_type": "execute_result"
    }
   ],
   "source": [
    "d.PUMA.isnull().sum()"
   ]
  },
  {
   "cell_type": "code",
   "execution_count": 21,
   "metadata": {},
   "outputs": [
    {
     "data": {
      "text/plain": [
       "0"
      ]
     },
     "execution_count": 21,
     "metadata": {},
     "output_type": "execute_result"
    }
   ],
   "source": [
    "d.ST.isnull().sum()"
   ]
  },
  {
   "cell_type": "code",
   "execution_count": 22,
   "metadata": {},
   "outputs": [],
   "source": [
    "grouped = d.groupby(['PUMA','ST'])"
   ]
  },
  {
   "cell_type": "code",
   "execution_count": 23,
   "metadata": {},
   "outputs": [
    {
     "data": {
      "text/plain": [
       "2351"
      ]
     },
     "execution_count": 23,
     "metadata": {},
     "output_type": "execute_result"
    }
   ],
   "source": [
    "len(grouped)"
   ]
  },
  {
   "cell_type": "code",
   "execution_count": 26,
   "metadata": {},
   "outputs": [
    {
     "data": {
      "text/plain": [
       "PUMA   ST\n",
       "500    12    296533\n",
       "900    40    279195\n",
       "100    5     265900\n",
       "4103   36    260341\n",
       "5904   6     253242\n",
       "51246  51    251287\n",
       "4112   36    249054\n",
       "400    54    239801\n",
       "110    6     238706\n",
       "100    15    238360\n",
       "7703   6     233734\n",
       "408    32    232117\n",
       "200    5     232007\n",
       "4905   48    231777\n",
       "411    32    229615\n",
       "500    4     228324\n",
       "5708   12    227949\n",
       "3300   13    227889\n",
       "51154  51    227888\n",
       "51235  51    226771\n",
       "600    4     226536\n",
       "2600   47    226180\n",
       "1204   45    225561\n",
       "10200  53    225502\n",
       "300    10    225203\n",
       "1000   19    224036\n",
       "20000  55    223248\n",
       "3602   48    223018\n",
       "2902   6     221611\n",
       "10100  53    221507\n",
       "              ...  \n",
       "8620   12     99031\n",
       "100    23     98960\n",
       "600    17     98773\n",
       "3312   36     98744\n",
       "2003   42     98611\n",
       "200    56     98601\n",
       "907    39     98569\n",
       "1200   28     98524\n",
       "5904   48     98352\n",
       "1601   40     98098\n",
       "4002   42     98089\n",
       "1104   34     98008\n",
       "57002  49     97921\n",
       "1300   39     97525\n",
       "3769   6      97375\n",
       "200    35     97249\n",
       "1300   54     97049\n",
       "1703   26     96793\n",
       "206    4      96646\n",
       "3207   42     96077\n",
       "3304   48     96071\n",
       "700    54     96003\n",
       "2700   17     95881\n",
       "804    35     95770\n",
       "3301   36     95267\n",
       "8604   12     94937\n",
       "4111   39     94525\n",
       "1301   1      94362\n",
       "1000   39     94194\n",
       "3309   36     94004\n",
       "Name: PWGTP, Length: 2351, dtype: int64"
      ]
     },
     "execution_count": 26,
     "metadata": {},
     "output_type": "execute_result"
    }
   ],
   "source": [
    "grouped.PWGTP.sum().sort_values(ascending=False)"
   ]
  },
  {
   "cell_type": "code",
   "execution_count": 5,
   "metadata": {},
   "outputs": [
    {
     "data": {
      "image/png": "[encoded data removed]",
      "text/plain": [
       "<Figure size 1080x576 with 1 Axes>"
      ]
     },
     "metadata": {
      "needs_background": "light"
     },
     "output_type": "display_data"
    }
   ],
   "source": [
    "d['PINCP'].hist(bins=37,figsize=(15,8));"
   ]
  },
  {
   "cell_type": "code",
   "execution_count": 6,
   "metadata": {},
   "outputs": [],
   "source": [
    "not_null_income_mask = d.PINCP.notnull()"
   ]
  },
  {
   "cell_type": "code",
   "execution_count": 7,
   "metadata": {},
   "outputs": [
    {
     "data": {
      "image/png": "[encoded data removed]",
      "text/plain": [
       "<Figure size 1080x576 with 1 Axes>"
      ]
     },
     "metadata": {
      "needs_background": "light"
     },
     "output_type": "display_data"
    }
   ],
   "source": [
    "d.loc[not_null_income_mask,'PINCP'].hist(bins=70,figsize=(15,8),weights=d.loc[not_null_income_mask,'PWGTP']);"
   ]
  },
  {
   "cell_type": "code",
   "execution_count": 8,
   "metadata": {},
   "outputs": [
    {
     "data": {
      "text/plain": [
       "KernelDensity(algorithm='auto', atol=0, bandwidth=2.2, breadth_first=True,\n",
       "       kernel='gaussian', leaf_size=40, metric='euclidean',\n",
       "       metric_params=None, rtol=0)"
      ]
     },
     "execution_count": 8,
     "metadata": {},
     "output_type": "execute_result"
    }
   ],
   "source": [
    "density = KernelDensity(bandwidth=2.2)\n",
    "density.fit(d.AGEP.sample(frac=.6).values.reshape(-1, 1))"
   ]
  },
  {
   "cell_type": "code",
   "execution_count": 9,
   "metadata": {},
   "outputs": [
    {
     "data": {
      "image/png": "[encoded data removed]",
      "text/plain": [
       "<Figure size 1080x576 with 1 Axes>"
      ]
     },
     "metadata": {
      "needs_background": "light"
     },
     "output_type": "display_data"
    }
   ],
   "source": [
    "xs = np.linspace(0,110,200)\n",
    "fig, ax = plt.subplots(figsize=(15,8))\n",
    "plt.plot(xs,np.exp(density.score_samples(xs.reshape(-1, 1))));"
   ]
  },
  {
   "cell_type": "code",
   "execution_count": 10,
   "metadata": {},
   "outputs": [
    {
     "data": {
      "text/plain": [
       "KernelDensity(algorithm='auto', atol=0, bandwidth=2.2, breadth_first=True,\n",
       "       kernel='gaussian', leaf_size=40, metric='euclidean',\n",
       "       metric_params=None, rtol=0)"
      ]
     },
     "execution_count": 10,
     "metadata": {},
     "output_type": "execute_result"
    }
   ],
   "source": [
    "density = KernelDensity(bandwidth=2.2)\n",
    "sample = d.sample(frac=.6)\n",
    "density.fit(sample.AGEP.values.reshape(-1, 1),sample_weight=sample.PWGTP)"
   ]
  },
  {
   "cell_type": "code",
   "execution_count": 11,
   "metadata": {},
   "outputs": [
    {
     "data": {
      "image/png": "[encoded data removed]",
      "text/plain": [
       "<Figure size 1080x576 with 1 Axes>"
      ]
     },
     "metadata": {
      "needs_background": "light"
     },
     "output_type": "display_data"
    }
   ],
   "source": [
    "xs = np.linspace(0,110,200)\n",
    "fig, ax = plt.subplots(figsize=(15,8))\n",
    "plt.plot(xs,np.exp(density.score_samples(xs.reshape(-1, 1))));\n",
    "plt.axvline(x=26);"
   ]
  },
  {
   "cell_type": "code",
   "execution_count": 56,
   "metadata": {},
   "outputs": [
    {
     "data": {
      "image/png": "[encoded data removed]",
      "text/plain": [
       "<Figure size 720x720 with 1 Axes>"
      ]
     },
     "metadata": {
      "needs_background": "light"
     },
     "output_type": "display_data"
    }
   ],
   "source": [
    "fig, ax = plt.subplots(figsize=(10,10))\n",
    "plt.scatter(d.loc[not_null_income_mask,'AGEP'],\n",
    "            d.loc[not_null_income_mask,'PINCP']);"
   ]
  },
  {
   "cell_type": "code",
   "execution_count": 57,
   "metadata": {},
   "outputs": [
    {
     "data": {
      "text/plain": [
       "count    121110.000000\n",
       "mean       1288.106127\n",
       "std        6464.066610\n",
       "min       -6600.000000\n",
       "25%           0.000000\n",
       "50%           0.000000\n",
       "75%         500.000000\n",
       "max      506000.000000\n",
       "Name: PINCP, dtype: float64"
      ]
     },
     "execution_count": 57,
     "metadata": {},
     "output_type": "execute_result"
    }
   ],
   "source": [
    "d.loc[(not_null_income_mask) & (d.AGEP<18),'PINCP'].describe()"
   ]
  },
  {
   "cell_type": "markdown",
   "metadata": {},
   "source": [
    "## Transforming:"
   ]
  },
  {
   "cell_type": "markdown",
   "metadata": {},
   "source": [
    "### Age"
   ]
  },
  {
   "cell_type": "code",
   "execution_count": 8,
   "metadata": {},
   "outputs": [],
   "source": [
    "d['age_cat'] = None\n",
    "d.loc[d.AGEP<=20,'age_cat'] = 'genz'\n",
    "d.loc[(d.AGEP>20) & (d.AGEP<=36),'age_cat'] = 'millennial'\n",
    "d.loc[(d.AGEP>36) & (d.AGEP<=52),'age_cat'] = 'genx'\n",
    "d.loc[(d.AGEP>52) & (d.AGEP<=71),'age_cat'] = 'boomer'\n",
    "d.loc[d.AGEP>71,'age_cat'] = 'silent'"
   ]
  },
  {
   "cell_type": "code",
   "execution_count": 9,
   "metadata": {},
   "outputs": [
    {
     "data": {
      "text/plain": [
       "0"
      ]
     },
     "execution_count": 9,
     "metadata": {},
     "output_type": "execute_result"
    }
   ],
   "source": [
    "d.age_cat.isnull().sum()"
   ]
  },
  {
   "cell_type": "code",
   "execution_count": 10,
   "metadata": {},
   "outputs": [
    {
     "data": {
      "text/plain": [
       "age_cat\n",
       "genz          86947550\n",
       "boomer        73553226\n",
       "millennial    71220736\n",
       "genx          65925527\n",
       "silent        28072139\n",
       "Name: PWGTP, dtype: int64"
      ]
     },
     "execution_count": 10,
     "metadata": {},
     "output_type": "execute_result"
    }
   ],
   "source": [
    "d.groupby('age_cat').PWGTP.sum().sort_values(ascending=False)"
   ]
  },
  {
   "cell_type": "code",
   "execution_count": 11,
   "metadata": {},
   "outputs": [
    {
     "data": {
      "text/html": [
       "<div>\n",
       "<style scoped>\n",
       "    .dataframe tbody tr th:only-of-type {\n",
       "        vertical-align: middle;\n",
       "    }\n",
       "\n",
       "    .dataframe tbody tr th {\n",
       "        vertical-align: top;\n",
       "    }\n",
       "\n",
       "    .dataframe thead th {\n",
       "        text-align: right;\n",
       "    }\n",
       "</style>\n",
       "<table border=\"1\" class=\"dataframe\">\n",
       "  <thead>\n",
       "    <tr style=\"text-align: right;\">\n",
       "      <th></th>\n",
       "      <th>PUMA</th>\n",
       "      <th>ST</th>\n",
       "      <th>PWGTP</th>\n",
       "      <th>AGEP</th>\n",
       "      <th>MAR</th>\n",
       "      <th>SCHL</th>\n",
       "      <th>SEX</th>\n",
       "      <th>WKHP</th>\n",
       "      <th>WKW</th>\n",
       "      <th>PINCP</th>\n",
       "      <th>RAC1P</th>\n",
       "      <th>age_cat</th>\n",
       "    </tr>\n",
       "  </thead>\n",
       "  <tbody>\n",
       "    <tr>\n",
       "      <th>0</th>\n",
       "      <td>2500</td>\n",
       "      <td>1</td>\n",
       "      <td>206</td>\n",
       "      <td>73</td>\n",
       "      <td>4</td>\n",
       "      <td>10.0</td>\n",
       "      <td>1</td>\n",
       "      <td>NaN</td>\n",
       "      <td>NaN</td>\n",
       "      <td>10000.0</td>\n",
       "      <td>2</td>\n",
       "      <td>silent</td>\n",
       "    </tr>\n",
       "    <tr>\n",
       "      <th>1</th>\n",
       "      <td>1800</td>\n",
       "      <td>1</td>\n",
       "      <td>45</td>\n",
       "      <td>31</td>\n",
       "      <td>5</td>\n",
       "      <td>21.0</td>\n",
       "      <td>2</td>\n",
       "      <td>42.0</td>\n",
       "      <td>1.0</td>\n",
       "      <td>38500.0</td>\n",
       "      <td>1</td>\n",
       "      <td>millennial</td>\n",
       "    </tr>\n",
       "    <tr>\n",
       "      <th>2</th>\n",
       "      <td>2400</td>\n",
       "      <td>1</td>\n",
       "      <td>136</td>\n",
       "      <td>41</td>\n",
       "      <td>1</td>\n",
       "      <td>17.0</td>\n",
       "      <td>1</td>\n",
       "      <td>42.0</td>\n",
       "      <td>1.0</td>\n",
       "      <td>82000.0</td>\n",
       "      <td>1</td>\n",
       "      <td>genx</td>\n",
       "    </tr>\n",
       "    <tr>\n",
       "      <th>3</th>\n",
       "      <td>2400</td>\n",
       "      <td>1</td>\n",
       "      <td>121</td>\n",
       "      <td>48</td>\n",
       "      <td>1</td>\n",
       "      <td>16.0</td>\n",
       "      <td>2</td>\n",
       "      <td>NaN</td>\n",
       "      <td>NaN</td>\n",
       "      <td>8700.0</td>\n",
       "      <td>1</td>\n",
       "      <td>genx</td>\n",
       "    </tr>\n",
       "    <tr>\n",
       "      <th>4</th>\n",
       "      <td>2400</td>\n",
       "      <td>1</td>\n",
       "      <td>111</td>\n",
       "      <td>16</td>\n",
       "      <td>5</td>\n",
       "      <td>13.0</td>\n",
       "      <td>1</td>\n",
       "      <td>NaN</td>\n",
       "      <td>NaN</td>\n",
       "      <td>0.0</td>\n",
       "      <td>1</td>\n",
       "      <td>genz</td>\n",
       "    </tr>\n",
       "  </tbody>\n",
       "</table>\n",
       "</div>"
      ],
      "text/plain": [
       "   PUMA  ST  PWGTP  AGEP  MAR  SCHL  SEX  WKHP  WKW    PINCP  RAC1P  \\\n",
       "0  2500   1    206    73    4  10.0    1   NaN  NaN  10000.0      2   \n",
       "1  1800   1     45    31    5  21.0    2  42.0  1.0  38500.0      1   \n",
       "2  2400   1    136    41    1  17.0    1  42.0  1.0  82000.0      1   \n",
       "3  2400   1    121    48    1  16.0    2   NaN  NaN   8700.0      1   \n",
       "4  2400   1    111    16    5  13.0    1   NaN  NaN      0.0      1   \n",
       "\n",
       "      age_cat  \n",
       "0      silent  \n",
       "1  millennial  \n",
       "2        genx  \n",
       "3        genx  \n",
       "4        genz  "
      ]
     },
     "execution_count": 11,
     "metadata": {},
     "output_type": "execute_result"
    }
   ],
   "source": [
    "d.head()"
   ]
  },
  {
   "cell_type": "markdown",
   "metadata": {},
   "source": [
    "### Race"
   ]
  },
  {
   "cell_type": "code",
   "execution_count": 12,
   "metadata": {},
   "outputs": [],
   "source": [
    "race_map =\\\n",
    "{\n",
    "    1:'white_alone',\n",
    "    2:'aa_alone',\n",
    "    3:'other_alone',\n",
    "    4:'other_alone',\n",
    "    5:'other_alone',\n",
    "    6:'other_alone',\n",
    "    7:'other_alone',\n",
    "    8:'other_alone',\n",
    "    9:'multiple'\n",
    "}"
   ]
  },
  {
   "cell_type": "code",
   "execution_count": 13,
   "metadata": {},
   "outputs": [
    {
     "data": {
      "text/plain": [
       "array([1, 2, 3, 4, 5, 6, 7, 8, 9])"
      ]
     },
     "execution_count": 13,
     "metadata": {},
     "output_type": "execute_result"
    }
   ],
   "source": [
    "np.sort(d.RAC1P.unique())"
   ]
  },
  {
   "cell_type": "code",
   "execution_count": 14,
   "metadata": {},
   "outputs": [],
   "source": [
    "d['race_cat'] = d.RAC1P.map(race_map)"
   ]
  },
  {
   "cell_type": "code",
   "execution_count": 15,
   "metadata": {},
   "outputs": [
    {
     "data": {
      "text/plain": [
       "race_cat\n",
       "white_alone    235548109\n",
       "aa_alone        41420756\n",
       "other_alone     37985841\n",
       "multiple        10764472\n",
       "Name: PWGTP, dtype: int64"
      ]
     },
     "execution_count": 15,
     "metadata": {},
     "output_type": "execute_result"
    }
   ],
   "source": [
    "d.groupby('race_cat').PWGTP.sum().sort_values(ascending=False)"
   ]
  },
  {
   "cell_type": "markdown",
   "metadata": {},
   "source": [
    "## Sex"
   ]
  },
  {
   "cell_type": "code",
   "execution_count": 16,
   "metadata": {},
   "outputs": [
    {
     "data": {
      "text/plain": [
       "array([1, 2])"
      ]
     },
     "execution_count": 16,
     "metadata": {},
     "output_type": "execute_result"
    }
   ],
   "source": [
    "np.sort(d.SEX.unique())"
   ]
  },
  {
   "cell_type": "code",
   "execution_count": 17,
   "metadata": {},
   "outputs": [],
   "source": [
    "sex_map =\\\n",
    "{\n",
    "    1:'male',\n",
    "    2:'female'\n",
    "}"
   ]
  },
  {
   "cell_type": "code",
   "execution_count": 18,
   "metadata": {},
   "outputs": [],
   "source": [
    "d['sex_cat'] = d.SEX.map(sex_map)"
   ]
  },
  {
   "cell_type": "code",
   "execution_count": 19,
   "metadata": {},
   "outputs": [
    {
     "data": {
      "text/plain": [
       "sex_cat\n",
       "female    165347934\n",
       "male      160371244\n",
       "Name: PWGTP, dtype: int64"
      ]
     },
     "execution_count": 19,
     "metadata": {},
     "output_type": "execute_result"
    }
   ],
   "source": [
    "d.groupby('sex_cat').PWGTP.sum().sort_values(ascending=False)"
   ]
  },
  {
   "cell_type": "markdown",
   "metadata": {},
   "source": [
    "### Marital Status"
   ]
  },
  {
   "cell_type": "code",
   "execution_count": 20,
   "metadata": {},
   "outputs": [
    {
     "data": {
      "text/plain": [
       "array([1, 2, 3, 4, 5])"
      ]
     },
     "execution_count": 20,
     "metadata": {},
     "output_type": "execute_result"
    }
   ],
   "source": [
    "np.sort(d.MAR.unique())"
   ]
  },
  {
   "cell_type": "code",
   "execution_count": 21,
   "metadata": {},
   "outputs": [],
   "source": [
    "mar_map =\\\n",
    "{\n",
    "    1:'married',\n",
    "    2:'prev_married',\n",
    "    3:'prev_married',\n",
    "    4:'prev_married',\n",
    "    5:'never_married',\n",
    "}"
   ]
  },
  {
   "cell_type": "code",
   "execution_count": 22,
   "metadata": {},
   "outputs": [],
   "source": [
    "d['mar_cat'] = d.MAR.map(mar_map)"
   ]
  },
  {
   "cell_type": "code",
   "execution_count": 23,
   "metadata": {},
   "outputs": [
    {
     "data": {
      "text/plain": [
       "mar_cat\n",
       "never_married    149972236\n",
       "married          126611806\n",
       "prev_married      49135136\n",
       "Name: PWGTP, dtype: int64"
      ]
     },
     "execution_count": 23,
     "metadata": {},
     "output_type": "execute_result"
    }
   ],
   "source": [
    "d.groupby('mar_cat').PWGTP.sum().sort_values(ascending=False)"
   ]
  },
  {
   "cell_type": "markdown",
   "metadata": {},
   "source": [
    "### Education"
   ]
  },
  {
   "cell_type": "code",
   "execution_count": 24,
   "metadata": {},
   "outputs": [
    {
     "data": {
      "text/plain": [
       "array([ 1.,  2.,  3.,  4.,  5.,  6.,  7.,  8.,  9., 10., 11., 12., 13.,\n",
       "       14., 15., 16., 17., 18., 19., 20., 21., 22., 23., 24., nan])"
      ]
     },
     "execution_count": 24,
     "metadata": {},
     "output_type": "execute_result"
    }
   ],
   "source": [
    "np.sort(d.SCHL.unique())"
   ]
  },
  {
   "cell_type": "code",
   "execution_count": 25,
   "metadata": {},
   "outputs": [],
   "source": [
    "d['edu_cat'] = None\n",
    "d.loc[d.SCHL<=20,'edu_cat'] = 'no_deg'\n",
    "d.loc[d.SCHL>20,'edu_cat'] = 'deg'\n",
    "d.loc[d.SCHL.isnull(),'edu_cat'] = 'no_deg'"
   ]
  },
  {
   "cell_type": "code",
   "execution_count": 26,
   "metadata": {},
   "outputs": [
    {
     "data": {
      "text/plain": [
       "edu_cat\n",
       "no_deg    0.771977\n",
       "deg       0.228023\n",
       "Name: PWGTP, dtype: float64"
      ]
     },
     "execution_count": 26,
     "metadata": {},
     "output_type": "execute_result"
    }
   ],
   "source": [
    "d.groupby('edu_cat').PWGTP.sum().sort_values(ascending=False)/d.PWGTP.sum()"
   ]
  },
  {
   "cell_type": "markdown",
   "metadata": {},
   "source": [
    "### Neighborhood"
   ]
  },
  {
   "cell_type": "code",
   "execution_count": 27,
   "metadata": {},
   "outputs": [],
   "source": [
    "area_size = d.groupby(['PUMA','ST']).PWGTP.sum().sort_values(ascending=False)"
   ]
  },
  {
   "cell_type": "code",
   "execution_count": 28,
   "metadata": {},
   "outputs": [
    {
     "data": {
      "text/plain": [
       "PUMA  ST\n",
       "500   12    296533\n",
       "900   40    279195\n",
       "100   5     265900\n",
       "4103  36    260341\n",
       "5904  6     253242\n",
       "Name: PWGTP, dtype: int64"
      ]
     },
     "execution_count": 28,
     "metadata": {},
     "output_type": "execute_result"
    }
   ],
   "source": [
    "area_size.head()"
   ]
  },
  {
   "cell_type": "code",
   "execution_count": 29,
   "metadata": {},
   "outputs": [
    {
     "data": {
      "text/plain": [
       "pandas.core.series.Series"
      ]
     },
     "execution_count": 29,
     "metadata": {},
     "output_type": "execute_result"
    }
   ],
   "source": [
    "type(area_size)"
   ]
  },
  {
   "cell_type": "code",
   "execution_count": 30,
   "metadata": {},
   "outputs": [],
   "source": [
    "area_size = area_size.to_frame()"
   ]
  },
  {
   "cell_type": "code",
   "execution_count": 31,
   "metadata": {},
   "outputs": [
    {
     "data": {
      "text/html": [
       "<div>\n",
       "<style scoped>\n",
       "    .dataframe tbody tr th:only-of-type {\n",
       "        vertical-align: middle;\n",
       "    }\n",
       "\n",
       "    .dataframe tbody tr th {\n",
       "        vertical-align: top;\n",
       "    }\n",
       "\n",
       "    .dataframe thead th {\n",
       "        text-align: right;\n",
       "    }\n",
       "</style>\n",
       "<table border=\"1\" class=\"dataframe\">\n",
       "  <thead>\n",
       "    <tr style=\"text-align: right;\">\n",
       "      <th></th>\n",
       "      <th></th>\n",
       "      <th>PWGTP</th>\n",
       "    </tr>\n",
       "    <tr>\n",
       "      <th>PUMA</th>\n",
       "      <th>ST</th>\n",
       "      <th></th>\n",
       "    </tr>\n",
       "  </thead>\n",
       "  <tbody>\n",
       "    <tr>\n",
       "      <th>500</th>\n",
       "      <th>12</th>\n",
       "      <td>296533</td>\n",
       "    </tr>\n",
       "    <tr>\n",
       "      <th>900</th>\n",
       "      <th>40</th>\n",
       "      <td>279195</td>\n",
       "    </tr>\n",
       "    <tr>\n",
       "      <th>100</th>\n",
       "      <th>5</th>\n",
       "      <td>265900</td>\n",
       "    </tr>\n",
       "  </tbody>\n",
       "</table>\n",
       "</div>"
      ],
      "text/plain": [
       "          PWGTP\n",
       "PUMA ST        \n",
       "500  12  296533\n",
       "900  40  279195\n",
       "100  5   265900"
      ]
     },
     "execution_count": 31,
     "metadata": {},
     "output_type": "execute_result"
    }
   ],
   "source": [
    "area_size.head(3)"
   ]
  },
  {
   "cell_type": "code",
   "execution_count": 32,
   "metadata": {},
   "outputs": [],
   "source": [
    "area_size['running_sum'] = area_size.PWGTP.cumsum()"
   ]
  },
  {
   "cell_type": "code",
   "execution_count": 33,
   "metadata": {},
   "outputs": [
    {
     "data": {
      "text/html": [
       "<div>\n",
       "<style scoped>\n",
       "    .dataframe tbody tr th:only-of-type {\n",
       "        vertical-align: middle;\n",
       "    }\n",
       "\n",
       "    .dataframe tbody tr th {\n",
       "        vertical-align: top;\n",
       "    }\n",
       "\n",
       "    .dataframe thead th {\n",
       "        text-align: right;\n",
       "    }\n",
       "</style>\n",
       "<table border=\"1\" class=\"dataframe\">\n",
       "  <thead>\n",
       "    <tr style=\"text-align: right;\">\n",
       "      <th></th>\n",
       "      <th></th>\n",
       "      <th>PWGTP</th>\n",
       "      <th>running_sum</th>\n",
       "    </tr>\n",
       "    <tr>\n",
       "      <th>PUMA</th>\n",
       "      <th>ST</th>\n",
       "      <th></th>\n",
       "      <th></th>\n",
       "    </tr>\n",
       "  </thead>\n",
       "  <tbody>\n",
       "    <tr>\n",
       "      <th>500</th>\n",
       "      <th>12</th>\n",
       "      <td>296533</td>\n",
       "      <td>296533</td>\n",
       "    </tr>\n",
       "    <tr>\n",
       "      <th>900</th>\n",
       "      <th>40</th>\n",
       "      <td>279195</td>\n",
       "      <td>575728</td>\n",
       "    </tr>\n",
       "    <tr>\n",
       "      <th>100</th>\n",
       "      <th>5</th>\n",
       "      <td>265900</td>\n",
       "      <td>841628</td>\n",
       "    </tr>\n",
       "  </tbody>\n",
       "</table>\n",
       "</div>"
      ],
      "text/plain": [
       "          PWGTP  running_sum\n",
       "PUMA ST                     \n",
       "500  12  296533       296533\n",
       "900  40  279195       575728\n",
       "100  5   265900       841628"
      ]
     },
     "execution_count": 33,
     "metadata": {},
     "output_type": "execute_result"
    }
   ],
   "source": [
    "area_size.head(3)"
   ]
  },
  {
   "cell_type": "code",
   "execution_count": 34,
   "metadata": {},
   "outputs": [],
   "source": [
    "urban_t_cutoff = int(.26*d.PWGTP.sum())\n",
    "urban_cutoff = area_size.loc[area_size.running_sum<urban_t_cutoff,'running_sum'].max()\n",
    "suburban_t_cutoff = urban_cutoff + int(.53*d.PWGTP.sum())\n",
    "suburban_cutoff = area_size.loc[area_size.running_sum<suburban_t_cutoff,'running_sum'].max()"
   ]
  },
  {
   "cell_type": "code",
   "execution_count": 35,
   "metadata": {},
   "outputs": [
    {
     "data": {
      "text/plain": [
       "(84686986, 84524728)"
      ]
     },
     "execution_count": 35,
     "metadata": {},
     "output_type": "execute_result"
    }
   ],
   "source": [
    "urban_t_cutoff,urban_cutoff"
   ]
  },
  {
   "cell_type": "code",
   "execution_count": 36,
   "metadata": {},
   "outputs": [
    {
     "data": {
      "text/plain": [
       "(257155892, 257081486)"
      ]
     },
     "execution_count": 36,
     "metadata": {},
     "output_type": "execute_result"
    }
   ],
   "source": [
    "suburban_t_cutoff,suburban_cutoff"
   ]
  },
  {
   "cell_type": "code",
   "execution_count": 37,
   "metadata": {},
   "outputs": [],
   "source": [
    "area_size['nei_cat'] = None\n",
    "area_size.loc[area_size.running_sum<=urban_cutoff,'nei_cat'] = 'urban'\n",
    "area_size.loc[(area_size.running_sum>urban_cutoff) &\n",
    "              (area_size.running_sum<=suburban_cutoff),'nei_cat'] = 'suburban'\n",
    "area_size.loc[area_size.running_sum>suburban_cutoff,'nei_cat'] = 'rural'"
   ]
  },
  {
   "cell_type": "code",
   "execution_count": 38,
   "metadata": {},
   "outputs": [
    {
     "data": {
      "text/plain": [
       "nei_cat\n",
       "rural       0.210727\n",
       "suburban    0.529772\n",
       "urban       0.259502\n",
       "Name: PWGTP, dtype: float64"
      ]
     },
     "execution_count": 38,
     "metadata": {},
     "output_type": "execute_result"
    }
   ],
   "source": [
    "area_size.groupby('nei_cat').PWGTP.sum()/d.PWGTP.sum()"
   ]
  },
  {
   "cell_type": "code",
   "execution_count": 39,
   "metadata": {},
   "outputs": [],
   "source": [
    "area_size_map = area_size.nei_cat.to_dict()"
   ]
  },
  {
   "cell_type": "code",
   "execution_count": 40,
   "metadata": {},
   "outputs": [],
   "source": [
    "d['nei_cat'] = [area_size_map[(puma,st)] for puma,st in d[['PUMA','ST']].values]"
   ]
  },
  {
   "cell_type": "code",
   "execution_count": 41,
   "metadata": {},
   "outputs": [
    {
     "data": {
      "text/plain": [
       "nei_cat\n",
       "rural       0.210727\n",
       "suburban    0.529772\n",
       "urban       0.259502\n",
       "Name: PWGTP, dtype: float64"
      ]
     },
     "execution_count": 41,
     "metadata": {},
     "output_type": "execute_result"
    }
   ],
   "source": [
    "d.groupby('nei_cat').PWGTP.sum()/d.PWGTP.sum()"
   ]
  },
  {
   "cell_type": "markdown",
   "metadata": {},
   "source": [
    "### Income"
   ]
  },
  {
   "cell_type": "code",
   "execution_count": 42,
   "metadata": {},
   "outputs": [
    {
     "data": {
      "text/plain": [
       "count    2.651836e+06\n",
       "mean     4.083221e+04\n",
       "std      6.131777e+04\n",
       "min     -9.100000e+03\n",
       "25%      8.000000e+03\n",
       "50%      2.440000e+04\n",
       "75%      5.100000e+04\n",
       "max      1.563000e+06\n",
       "Name: PINCP, dtype: float64"
      ]
     },
     "execution_count": 42,
     "metadata": {},
     "output_type": "execute_result"
    }
   ],
   "source": [
    "d.PINCP.describe()"
   ]
  },
  {
   "cell_type": "code",
   "execution_count": 43,
   "metadata": {},
   "outputs": [
    {
     "data": {
      "text/plain": [
       "538204"
      ]
     },
     "execution_count": 43,
     "metadata": {},
     "output_type": "execute_result"
    }
   ],
   "source": [
    "d.PINCP.isnull().sum()"
   ]
  },
  {
   "cell_type": "code",
   "execution_count": 44,
   "metadata": {},
   "outputs": [],
   "source": [
    "d['income_cat'] = None\n",
    "d.loc[d.PINCP.isnull(),'income_cat'] = 'no_or_low'\n",
    "d.loc[d.PINCP<40000,'income_cat'] = 'no_or_low'\n",
    "d.loc[(d.PINCP>=40000) & (d.PINCP<160000),'income_cat'] = 'middle'\n",
    "d.loc[d.PINCP>=160000,'income_cat'] = 'high'"
   ]
  },
  {
   "cell_type": "code",
   "execution_count": 45,
   "metadata": {},
   "outputs": [
    {
     "data": {
      "text/plain": [
       "income_cat\n",
       "high         0.023885\n",
       "middle       0.249883\n",
       "no_or_low    0.726232\n",
       "Name: PWGTP, dtype: float64"
      ]
     },
     "execution_count": 45,
     "metadata": {},
     "output_type": "execute_result"
    }
   ],
   "source": [
    "d.groupby('income_cat').PWGTP.sum()/d.PWGTP.sum()"
   ]
  },
  {
   "cell_type": "markdown",
   "metadata": {},
   "source": [
    "### Employmenet"
   ]
  },
  {
   "cell_type": "code",
   "execution_count": 46,
   "metadata": {},
   "outputs": [
    {
     "data": {
      "text/plain": [
       "(1536328, 1536328)"
      ]
     },
     "execution_count": 46,
     "metadata": {},
     "output_type": "execute_result"
    }
   ],
   "source": [
    "d.WKW.isnull().sum(),d.WKHP.isnull().sum()"
   ]
  },
  {
   "cell_type": "code",
   "execution_count": 47,
   "metadata": {},
   "outputs": [
    {
     "data": {
      "text/plain": [
       "count    1.653712e+06\n",
       "mean     1.853504e+00\n",
       "std      1.594858e+00\n",
       "min      1.000000e+00\n",
       "25%      1.000000e+00\n",
       "50%      1.000000e+00\n",
       "75%      2.000000e+00\n",
       "max      6.000000e+00\n",
       "Name: WKW, dtype: float64"
      ]
     },
     "execution_count": 47,
     "metadata": {},
     "output_type": "execute_result"
    }
   ],
   "source": [
    "d.WKW.describe()"
   ]
  },
  {
   "cell_type": "code",
   "execution_count": 48,
   "metadata": {},
   "outputs": [
    {
     "data": {
      "text/plain": [
       "count    1.653712e+06\n",
       "mean     3.812923e+01\n",
       "std      1.318866e+01\n",
       "min      1.000000e+00\n",
       "25%      3.500000e+01\n",
       "50%      4.000000e+01\n",
       "75%      4.300000e+01\n",
       "max      9.900000e+01\n",
       "Name: WKHP, dtype: float64"
      ]
     },
     "execution_count": 48,
     "metadata": {},
     "output_type": "execute_result"
    }
   ],
   "source": [
    "d.WKHP.describe()"
   ]
  },
  {
   "cell_type": "code",
   "execution_count": 49,
   "metadata": {},
   "outputs": [],
   "source": [
    "d['fempl_cat'] = 'no'\n",
    "d.loc[(d.WKW.isin([1,2,3])) & (d.WKHP>35),'fempl_cat'] = 'yes'"
   ]
  },
  {
   "cell_type": "code",
   "execution_count": 50,
   "metadata": {},
   "outputs": [
    {
     "data": {
      "text/plain": [
       "fempl_cat\n",
       "no     0.648941\n",
       "yes    0.351059\n",
       "Name: PWGTP, dtype: float64"
      ]
     },
     "execution_count": 50,
     "metadata": {},
     "output_type": "execute_result"
    }
   ],
   "source": [
    "d.groupby('fempl_cat').PWGTP.sum()/d.PWGTP.sum()"
   ]
  },
  {
   "cell_type": "code",
   "execution_count": null,
   "metadata": {},
   "outputs": [],
   "source": []
  },
  {
   "cell_type": "code",
   "execution_count": 51,
   "metadata": {},
   "outputs": [
    {
     "data": {
      "text/html": [
       "<div>\n",
       "<style scoped>\n",
       "    .dataframe tbody tr th:only-of-type {\n",
       "        vertical-align: middle;\n",
       "    }\n",
       "\n",
       "    .dataframe tbody tr th {\n",
       "        vertical-align: top;\n",
       "    }\n",
       "\n",
       "    .dataframe thead th {\n",
       "        text-align: right;\n",
       "    }\n",
       "</style>\n",
       "<table border=\"1\" class=\"dataframe\">\n",
       "  <thead>\n",
       "    <tr style=\"text-align: right;\">\n",
       "      <th></th>\n",
       "      <th>PUMA</th>\n",
       "      <th>ST</th>\n",
       "      <th>PWGTP</th>\n",
       "      <th>AGEP</th>\n",
       "      <th>MAR</th>\n",
       "      <th>SCHL</th>\n",
       "      <th>SEX</th>\n",
       "      <th>WKHP</th>\n",
       "      <th>WKW</th>\n",
       "      <th>PINCP</th>\n",
       "      <th>RAC1P</th>\n",
       "      <th>age_cat</th>\n",
       "      <th>race_cat</th>\n",
       "      <th>sex_cat</th>\n",
       "      <th>mar_cat</th>\n",
       "      <th>edu_cat</th>\n",
       "      <th>nei_cat</th>\n",
       "      <th>income_cat</th>\n",
       "      <th>fempl_cat</th>\n",
       "    </tr>\n",
       "  </thead>\n",
       "  <tbody>\n",
       "    <tr>\n",
       "      <th>0</th>\n",
       "      <td>2500</td>\n",
       "      <td>1</td>\n",
       "      <td>206</td>\n",
       "      <td>73</td>\n",
       "      <td>4</td>\n",
       "      <td>10.0</td>\n",
       "      <td>1</td>\n",
       "      <td>NaN</td>\n",
       "      <td>NaN</td>\n",
       "      <td>10000.0</td>\n",
       "      <td>2</td>\n",
       "      <td>silent</td>\n",
       "      <td>aa_alone</td>\n",
       "      <td>male</td>\n",
       "      <td>prev_married</td>\n",
       "      <td>no_deg</td>\n",
       "      <td>urban</td>\n",
       "      <td>no_or_low</td>\n",
       "      <td>no</td>\n",
       "    </tr>\n",
       "    <tr>\n",
       "      <th>1</th>\n",
       "      <td>1800</td>\n",
       "      <td>1</td>\n",
       "      <td>45</td>\n",
       "      <td>31</td>\n",
       "      <td>5</td>\n",
       "      <td>21.0</td>\n",
       "      <td>2</td>\n",
       "      <td>42.0</td>\n",
       "      <td>1.0</td>\n",
       "      <td>38500.0</td>\n",
       "      <td>1</td>\n",
       "      <td>millennial</td>\n",
       "      <td>white_alone</td>\n",
       "      <td>female</td>\n",
       "      <td>never_married</td>\n",
       "      <td>deg</td>\n",
       "      <td>suburban</td>\n",
       "      <td>no_or_low</td>\n",
       "      <td>yes</td>\n",
       "    </tr>\n",
       "    <tr>\n",
       "      <th>2</th>\n",
       "      <td>2400</td>\n",
       "      <td>1</td>\n",
       "      <td>136</td>\n",
       "      <td>41</td>\n",
       "      <td>1</td>\n",
       "      <td>17.0</td>\n",
       "      <td>1</td>\n",
       "      <td>42.0</td>\n",
       "      <td>1.0</td>\n",
       "      <td>82000.0</td>\n",
       "      <td>1</td>\n",
       "      <td>genx</td>\n",
       "      <td>white_alone</td>\n",
       "      <td>male</td>\n",
       "      <td>married</td>\n",
       "      <td>no_deg</td>\n",
       "      <td>suburban</td>\n",
       "      <td>middle</td>\n",
       "      <td>yes</td>\n",
       "    </tr>\n",
       "    <tr>\n",
       "      <th>3</th>\n",
       "      <td>2400</td>\n",
       "      <td>1</td>\n",
       "      <td>121</td>\n",
       "      <td>48</td>\n",
       "      <td>1</td>\n",
       "      <td>16.0</td>\n",
       "      <td>2</td>\n",
       "      <td>NaN</td>\n",
       "      <td>NaN</td>\n",
       "      <td>8700.0</td>\n",
       "      <td>1</td>\n",
       "      <td>genx</td>\n",
       "      <td>white_alone</td>\n",
       "      <td>female</td>\n",
       "      <td>married</td>\n",
       "      <td>no_deg</td>\n",
       "      <td>suburban</td>\n",
       "      <td>no_or_low</td>\n",
       "      <td>no</td>\n",
       "    </tr>\n",
       "    <tr>\n",
       "      <th>4</th>\n",
       "      <td>2400</td>\n",
       "      <td>1</td>\n",
       "      <td>111</td>\n",
       "      <td>16</td>\n",
       "      <td>5</td>\n",
       "      <td>13.0</td>\n",
       "      <td>1</td>\n",
       "      <td>NaN</td>\n",
       "      <td>NaN</td>\n",
       "      <td>0.0</td>\n",
       "      <td>1</td>\n",
       "      <td>genz</td>\n",
       "      <td>white_alone</td>\n",
       "      <td>male</td>\n",
       "      <td>never_married</td>\n",
       "      <td>no_deg</td>\n",
       "      <td>suburban</td>\n",
       "      <td>no_or_low</td>\n",
       "      <td>no</td>\n",
       "    </tr>\n",
       "  </tbody>\n",
       "</table>\n",
       "</div>"
      ],
      "text/plain": [
       "   PUMA  ST  PWGTP  AGEP  MAR  SCHL  SEX  WKHP  WKW    PINCP  RAC1P  \\\n",
       "0  2500   1    206    73    4  10.0    1   NaN  NaN  10000.0      2   \n",
       "1  1800   1     45    31    5  21.0    2  42.0  1.0  38500.0      1   \n",
       "2  2400   1    136    41    1  17.0    1  42.0  1.0  82000.0      1   \n",
       "3  2400   1    121    48    1  16.0    2   NaN  NaN   8700.0      1   \n",
       "4  2400   1    111    16    5  13.0    1   NaN  NaN      0.0      1   \n",
       "\n",
       "      age_cat     race_cat sex_cat        mar_cat edu_cat   nei_cat  \\\n",
       "0      silent     aa_alone    male   prev_married  no_deg     urban   \n",
       "1  millennial  white_alone  female  never_married     deg  suburban   \n",
       "2        genx  white_alone    male        married  no_deg  suburban   \n",
       "3        genx  white_alone  female        married  no_deg  suburban   \n",
       "4        genz  white_alone    male  never_married  no_deg  suburban   \n",
       "\n",
       "  income_cat fempl_cat  \n",
       "0  no_or_low        no  \n",
       "1  no_or_low       yes  \n",
       "2     middle       yes  \n",
       "3  no_or_low        no  \n",
       "4  no_or_low        no  "
      ]
     },
     "execution_count": 51,
     "metadata": {},
     "output_type": "execute_result"
    }
   ],
   "source": [
    "d.head()"
   ]
  },
  {
   "cell_type": "code",
   "execution_count": 52,
   "metadata": {},
   "outputs": [
    {
     "data": {
      "text/plain": [
       "4320"
      ]
     },
     "execution_count": 52,
     "metadata": {},
     "output_type": "execute_result"
    }
   ],
   "source": [
    "5*4*2*3*2*3*3*2"
   ]
  },
  {
   "cell_type": "code",
   "execution_count": 53,
   "metadata": {},
   "outputs": [
    {
     "data": {
      "text/plain": [
       "51840"
      ]
     },
     "execution_count": 53,
     "metadata": {},
     "output_type": "execute_result"
    }
   ],
   "source": [
    "6*5*3*4*3*4*4*3"
   ]
  },
  {
   "cell_type": "code",
   "execution_count": 54,
   "metadata": {},
   "outputs": [],
   "source": [
    "def get_group_sizes(population,all_the_cats,all_cats_values):\n",
    "    # key is 8 tuple of indicators,\n",
    "    # values is dict with tuple of values -> tuple of (# people in group, rank of group)\n",
    "    group_sizes = {}\n",
    "    for indicators in itertools.product(*([(False,True)]*8)):\n",
    "        cats_on = all_the_cats[np.array(indicators)]\n",
    "        if not len(cats_on):\n",
    "            continue\n",
    "        group_sizes[indicators] = {}\n",
    "        num_groups = 1\n",
    "        for vals in all_cats_values[np.array(indicators)]:\n",
    "            num_groups *= len(vals)\n",
    "        groups = population.groupby(cats_on.tolist()).PWGTP.sum().sort_values(ascending=False).to_frame()\n",
    "        group_sizes[indicators]['n_populated_groups'] = len(groups)\n",
    "        group_sizes[indicators]['n_groups'] = num_groups\n",
    "        groups['grank'] = groups.PWGTP.rank(method='min',ascending=False)\n",
    "        group_sizes[indicators]['vals'] = {}\n",
    "        for index, row in groups.iterrows(): ## store results of groups with people\n",
    "            key = tuple(index)\n",
    "            value = (row['PWGTP'],row['grank'])\n",
    "            group_sizes[indicators]['vals'][key] = value\n",
    "#         for vals in itertools.product(*all_cats_values[np.array(indicators)]):\n",
    "#             key = tuple([])\n",
    "#             j = 0\n",
    "#             for i in indicators:\n",
    "#                 if i:\n",
    "#                     key += (vals[j],)\n",
    "#                     j += 1\n",
    "#                 else:\n",
    "#                     key += (None,)\n",
    "#             if key in group_sizes[indicators]['vals']:\n",
    "#                 continue\n",
    "#             value = (0,len(groups)+1)\n",
    "#             group_sizes[indicators]['vals'][key] = value\n",
    "    return group_sizes\n",
    "\n",
    "all_the_cats = np.array(['age_cat','race_cat','sex_cat','mar_cat',\n",
    "                         'edu_cat','nei_cat','income_cat','fempl_cat'])\n",
    "all_cats_values = np.array([('genz','millennial','genx','boomer','silent'),\n",
    "                   ('white_alone','aa_alone','other_alone','multiple',),\n",
    "                   ('male','female'),\n",
    "                   ('married','prev_married','never_married',),\n",
    "                   ('no_deg','deg'),\n",
    "                   ('urban','suburban','rural'),\n",
    "                   ('no_or_low','middle','high'),\n",
    "                   ('yes','no')])\n",
    "group_sizes_with_z = get_group_sizes(d,all_the_cats,all_cats_values)\n",
    "\n",
    "all_cats_values_sans_z = np.array([('millennial','genx','boomer','silent'),\n",
    "           ('white_alone','aa_alone','other_alone','multiple',),\n",
    "           ('male','female'),\n",
    "           ('married','prev_married','never_married',),\n",
    "           ('no_deg','deg'),\n",
    "           ('urban','suburban','rural'),\n",
    "           ('no_or_low','middle','high'),\n",
    "           ('yes','no')])\n",
    "sub = d[d['age_cat']!='genz']\n",
    "group_sizes_without_z = get_group_sizes(sub,all_the_cats,all_cats_values_sans_z)\n"
   ]
  },
  {
   "cell_type": "code",
   "execution_count": 55,
   "metadata": {},
   "outputs": [
    {
     "data": {
      "text/plain": [
       "(255, 255)"
      ]
     },
     "execution_count": 55,
     "metadata": {},
     "output_type": "execute_result"
    }
   ],
   "source": [
    "len(group_sizes_with_z),len(group_sizes_without_z)"
   ]
  },
  {
   "cell_type": "code",
   "execution_count": 66,
   "metadata": {},
   "outputs": [
    {
     "data": {
      "text/plain": [
       "[('n_populated_groups', 15),\n",
       " ('n_groups', 15),\n",
       " ('vals',\n",
       "  {('genz', 'suburban'): (46255443.0, 1.0),\n",
       "   ('boomer', 'suburban'): (38536735.0, 2.0),\n",
       "   ('millennial', 'suburban'): (37962061.0, 3.0),\n",
       "   ('genx', 'suburban'): (35193642.0, 4.0),\n",
       "   ('genz', 'urban'): (22792359.0, 5.0),\n",
       "   ('boomer', 'urban'): (18832728.0, 6.0),\n",
       "   ('millennial', 'urban'): (18719241.0, 7.0),\n",
       "   ('genz', 'rural'): (17899748.0, 8.0),\n",
       "   ('genx', 'urban'): (17014973.0, 9.0),\n",
       "   ('boomer', 'rural'): (16183763.0, 10.0),\n",
       "   ('silent', 'suburban'): (14608877.0, 11.0),\n",
       "   ('millennial', 'rural'): (14539434.0, 12.0),\n",
       "   ('genx', 'rural'): (13716912.0, 13.0),\n",
       "   ('silent', 'urban'): (7165427.0, 14.0),\n",
       "   ('silent', 'rural'): (6297835.0, 15.0)})]"
      ]
     },
     "execution_count": 66,
     "metadata": {},
     "output_type": "execute_result"
    }
   ],
   "source": [
    "list(group_sizes_with_z[(True,False,False,False,False,True,False,False)].items())"
   ]
  },
  {
   "cell_type": "code",
   "execution_count": 67,
   "metadata": {},
   "outputs": [
    {
     "data": {
      "text/plain": [
       "[('n_populated_groups', 15),\n",
       " ('n_groups', 15),\n",
       " ('vals',\n",
       "  [(('genz', 'suburban'), (46255443.0, 1.0)),\n",
       "   (('boomer', 'suburban'), (38536735.0, 2.0)),\n",
       "   (('millennial', 'suburban'), (37962061.0, 3.0)),\n",
       "   (('genx', 'suburban'), (35193642.0, 4.0)),\n",
       "   (('genz', 'urban'), (22792359.0, 5.0)),\n",
       "   (('boomer', 'urban'), (18832728.0, 6.0)),\n",
       "   (('millennial', 'urban'), (18719241.0, 7.0)),\n",
       "   (('genz', 'rural'), (17899748.0, 8.0)),\n",
       "   (('genx', 'urban'), (17014973.0, 9.0)),\n",
       "   (('boomer', 'rural'), (16183763.0, 10.0)),\n",
       "   (('silent', 'suburban'), (14608877.0, 11.0)),\n",
       "   (('millennial', 'rural'), (14539434.0, 12.0)),\n",
       "   (('genx', 'rural'), (13716912.0, 13.0)),\n",
       "   (('silent', 'urban'), (7165427.0, 14.0)),\n",
       "   (('silent', 'rural'), (6297835.0, 15.0))])]"
      ]
     },
     "execution_count": 67,
     "metadata": {},
     "output_type": "execute_result"
    }
   ],
   "source": [
    "d = group_sizes_with_z[(True,False,False,False,False,True,False,False)]\n",
    "d['vals'] = list(d['vals'].items())\n",
    "list(d.items())"
   ]
  },
  {
   "cell_type": "code",
   "execution_count": 59,
   "metadata": {},
   "outputs": [
    {
     "data": {
      "text/plain": [
       "[(46255443.0, 1.0),\n",
       " (38536735.0, 2.0),\n",
       " (37962061.0, 3.0),\n",
       " (35193642.0, 4.0),\n",
       " (22792359.0, 5.0),\n",
       " (18832728.0, 6.0),\n",
       " (18719241.0, 7.0),\n",
       " (17899748.0, 8.0),\n",
       " (17014973.0, 9.0),\n",
       " (16183763.0, 10.0),\n",
       " (14608877.0, 11.0),\n",
       " (14539434.0, 12.0),\n",
       " (13716912.0, 13.0),\n",
       " (7165427.0, 14.0),\n",
       " (6297835.0, 15.0)]"
      ]
     },
     "execution_count": 59,
     "metadata": {},
     "output_type": "execute_result"
    }
   ],
   "source": [
    "list(group_sizes_without_z[(True,False,False,False,False,True,False,False)]['vals'].values())"
   ]
  },
  {
   "cell_type": "code",
   "execution_count": 52,
   "metadata": {
    "scrolled": true
   },
   "outputs": [
    {
     "data": {
      "text/plain": [
       "(51839, 43199)"
      ]
     },
     "execution_count": 52,
     "metadata": {},
     "output_type": "execute_result"
    }
   ],
   "source": [
    "len(group_sizes_with_z),len(group_sizes_without_z)"
   ]
  },
  {
   "cell_type": "code",
   "execution_count": 2,
   "metadata": {},
   "outputs": [],
   "source": [
    "import pickle"
   ]
  },
  {
   "cell_type": "code",
   "execution_count": 56,
   "metadata": {},
   "outputs": [],
   "source": [
    "import pickle\n",
    "with open('pumas_out.pkl','wb') as f:\n",
    "    pickle.dump({'with_z':group_sizes_with_z,'without_z':group_sizes_without_z},f)"
   ]
  },
  {
   "cell_type": "code",
   "execution_count": 60,
   "metadata": {},
   "outputs": [
    {
     "data": {
      "text/plain": [
       "(2824336.0, 16.0, 432, 432)"
      ]
     },
     "execution_count": 60,
     "metadata": {},
     "output_type": "execute_result"
    }
   ],
   "source": [
    "group_sizes_without_z[('genx',None,'male','married','deg','suburban','middle',None)]"
   ]
  },
  {
   "cell_type": "code",
   "execution_count": 59,
   "metadata": {},
   "outputs": [
    {
     "data": {
      "text/plain": [
       "(2824336.0, 22.0, 507, 540)"
      ]
     },
     "execution_count": 59,
     "metadata": {},
     "output_type": "execute_result"
    }
   ],
   "source": [
    "group_sizes_with_z[('genx',None,'male','married','deg','suburban','middle',None)]"
   ]
  },
  {
   "cell_type": "code",
   "execution_count": 81,
   "metadata": {},
   "outputs": [
    {
     "data": {
      "text/plain": [
       "fempl_cat\n",
       "no     1.0\n",
       "yes    2.0\n",
       "Name: PWGTP, dtype: float64"
      ]
     },
     "execution_count": 81,
     "metadata": {},
     "output_type": "execute_result"
    }
   ],
   "source": [
    "groups.PWGTP.rank(method='min',ascending=False)"
   ]
  },
  {
   "cell_type": "code",
   "execution_count": 83,
   "metadata": {},
   "outputs": [
    {
     "data": {
      "text/plain": [
       "fempl_cat\n",
       "no     1.0\n",
       "yes    0.5\n",
       "Name: PWGTP, dtype: float64"
      ]
     },
     "execution_count": 83,
     "metadata": {},
     "output_type": "execute_result"
    }
   ],
   "source": [
    "groups.PWGTP.rank(method='min',ascending=True,pct=True)"
   ]
  },
  {
   "cell_type": "code",
   "execution_count": 84,
   "metadata": {},
   "outputs": [],
   "source": [
    "groups['grank'] = groups.PWGTP.rank(method='min',ascending=False)"
   ]
  },
  {
   "cell_type": "code",
   "execution_count": 87,
   "metadata": {},
   "outputs": [],
   "source": [
    "groups['gpct'] = (groups['grank']-1)/len(groups)"
   ]
  },
  {
   "cell_type": "code",
   "execution_count": 88,
   "metadata": {},
   "outputs": [
    {
     "data": {
      "text/html": [
       "<div>\n",
       "<style scoped>\n",
       "    .dataframe tbody tr th:only-of-type {\n",
       "        vertical-align: middle;\n",
       "    }\n",
       "\n",
       "    .dataframe tbody tr th {\n",
       "        vertical-align: top;\n",
       "    }\n",
       "\n",
       "    .dataframe thead th {\n",
       "        text-align: right;\n",
       "    }\n",
       "</style>\n",
       "<table border=\"1\" class=\"dataframe\">\n",
       "  <thead>\n",
       "    <tr style=\"text-align: right;\">\n",
       "      <th></th>\n",
       "      <th>PWGTP</th>\n",
       "      <th>grank</th>\n",
       "      <th>gpct</th>\n",
       "    </tr>\n",
       "    <tr>\n",
       "      <th>fempl_cat</th>\n",
       "      <th></th>\n",
       "      <th></th>\n",
       "      <th></th>\n",
       "    </tr>\n",
       "  </thead>\n",
       "  <tbody>\n",
       "    <tr>\n",
       "      <th>no</th>\n",
       "      <td>211372667</td>\n",
       "      <td>1.0</td>\n",
       "      <td>0.0</td>\n",
       "    </tr>\n",
       "    <tr>\n",
       "      <th>yes</th>\n",
       "      <td>114346511</td>\n",
       "      <td>2.0</td>\n",
       "      <td>0.5</td>\n",
       "    </tr>\n",
       "  </tbody>\n",
       "</table>\n",
       "</div>"
      ],
      "text/plain": [
       "               PWGTP  grank  gpct\n",
       "fempl_cat                        \n",
       "no         211372667    1.0   0.0\n",
       "yes        114346511    2.0   0.5"
      ]
     },
     "execution_count": 88,
     "metadata": {},
     "output_type": "execute_result"
    }
   ],
   "source": [
    "groups"
   ]
  },
  {
   "cell_type": "code",
   "execution_count": 57,
   "metadata": {},
   "outputs": [],
   "source": [
    "import pickle\n",
    "with open('pumas_out.pkl','rb') as f:\n",
    "    d = pickle.load(f)"
   ]
  },
  {
   "cell_type": "code",
   "execution_count": 64,
   "metadata": {},
   "outputs": [],
   "source": [
    "for m in d['with_z'].values():\n",
    "    n = sum(f[0] for f in m['vals'].values())\n",
    "    #print(n)\n",
    "    if n!=325719178:\n",
    "        print('oh no')\n",
    "for m in d['without_z'].values():\n",
    "    n = sum(f[0] for f in m['vals'].values())\n",
    "    #print(n)\n",
    "    if n!=238771628:\n",
    "        print('oh no')"
   ]
  },
  {
   "cell_type": "code",
   "execution_count": 73,
   "metadata": {},
   "outputs": [],
   "source": [
    "p = d['with_z'][(True,True,True,True,True,True,True,True)]"
   ]
  },
  {
   "cell_type": "code",
   "execution_count": 74,
   "metadata": {},
   "outputs": [],
   "source": [
    "p['vals'] = [[list(key),list(value)] for key,value in p['vals'].items()]"
   ]
  },
  {
   "cell_type": "code",
   "execution_count": 76,
   "metadata": {},
   "outputs": [],
   "source": [
    "import json"
   ]
  },
  {
   "cell_type": "code",
   "execution_count": 77,
   "metadata": {
    "scrolled": false
   },
   "outputs": [],
   "source": [
    "with open('j.json','w') as f:\n",
    "    json.dump([[key,value] for key,value in p.items()],f)"
   ]
  },
  {
   "cell_type": "code",
   "execution_count": null,
   "metadata": {},
   "outputs": [],
   "source": []
  }
 ],
 "metadata": {
  "kernelspec": {
   "display_name": "Python 3",
   "language": "python",
   "name": "python3"
  },
  "language_info": {
   "codemirror_mode": {
    "name": "ipython",
    "version": 3
   },
   "file_extension": ".py",
   "mimetype": "text/x-python",
   "name": "python",
   "nbconvert_exporter": "python",
   "pygments_lexer": "ipython3",
   "version": "3.7.1"
  }
 },
 "nbformat": 4,
 "nbformat_minor": 2
}
